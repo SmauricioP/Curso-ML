{
 "cells": [
  {
   "cell_type": "markdown",
   "id": "7bfcba9d-0b4f-4830-8644-11678b96d1b0",
   "metadata": {},
   "source": [
    "# Creación del algoritmo KNN"
   ]
  },
  {
   "cell_type": "markdown",
   "id": "ea8beeca-fc8f-4811-ba95-473b0608b66d",
   "metadata": {},
   "source": [
    "## Importando librerías"
   ]
  },
  {
   "cell_type": "code",
   "execution_count": 27,
   "id": "67e038b5-dca8-4284-99e9-d011fc7d576c",
   "metadata": {},
   "outputs": [],
   "source": [
    "import pandas as pd\n",
    "import numpy as np\n",
    "import matplotlib.pyplot as plt\n",
    "import warnings\n",
    "import random\n",
    "\n",
    "from matplotlib import style\n",
    "from math import sqrt\n",
    "from collections import Counter"
   ]
  },
  {
   "cell_type": "markdown",
   "id": "b1d4ab0d-afd9-4a7b-bac8-a56138dc4bac",
   "metadata": {},
   "source": [
    "## Creación del dataset"
   ]
  },
  {
   "cell_type": "code",
   "execution_count": 2,
   "id": "33fac3e8-15f1-4fcb-a42a-44913fb9e113",
   "metadata": {},
   "outputs": [],
   "source": [
    "dataset = {\n",
    "    'k':[[1,2],[2,3],[3,1]],\n",
    "    'r':[[6,5],[7,7],[8,6]]\n",
    "}\n",
    "new_point = [5,7]"
   ]
  },
  {
   "cell_type": "code",
   "execution_count": 7,
   "id": "2cff821a-cdf2-4ce4-a4e8-7fb059ad1d9e",
   "metadata": {},
   "outputs": [
    {
     "data": {
      "image/png": "[encoded data removed]",
      "text/plain": [
       "<Figure size 640x480 with 1 Axes>"
      ]
     },
     "metadata": {},
     "output_type": "display_data"
    }
   ],
   "source": [
    "[[plt.scatter(ii[0], ii[1], s = 50, color = i) for ii in dataset[i]] for i in dataset]\n",
    "plt.scatter(new_point[0], new_point[1], s = 100)\n",
    "plt.show()"
   ]
  },
  {
   "cell_type": "markdown",
   "id": "8230b2e1-2c98-4e58-9807-bf845a919520",
   "metadata": {},
   "source": [
    "## Implementando el algoritmo"
   ]
  },
  {
   "cell_type": "code",
   "execution_count": 67,
   "id": "5dacb6ce-cc8f-4615-9839-6d742a35aaa2",
   "metadata": {},
   "outputs": [],
   "source": [
    "def k_nearest_neighbors(data, predict, k = 3, verbose = False):\n",
    "    \n",
    "    if len(data) >= k:\n",
    "        warnings.warn(\"¡K es un valor menos que el número total de elementos a votar!\")\n",
    "    \n",
    "    distances = []\n",
    "    for group in data:\n",
    "        for feature in data[group]:\n",
    "            # d = sqrt((feature[0] - predict[0])**2 + (feature[1] - predict[1])**2)\n",
    "            # d = np.sqrt(np.sum((np.array(feature) - np.array(predict))**2))\n",
    "            d = np.linalg.norm(np.array(feature) - np.array(predict))\n",
    "            distances.append([d, group])\n",
    "    if verbose == True:\n",
    "        print(distances)        \n",
    "    votes = [i[1] for i in sorted(distances)[:k]] # Sorted ordena por la primera columna\n",
    "    if verbose == True:\n",
    "        print(votes)\n",
    "    \n",
    "    vote_result = Counter(votes).most_common(1)[0][0]\n",
    "    if verbose == True:\n",
    "        print(vote_result)\n",
    "    return vote_result"
   ]
  },
  {
   "cell_type": "code",
   "execution_count": 53,
   "id": "d354bac3-bd53-4ff9-b025-69438a3d34ec",
   "metadata": {},
   "outputs": [
    {
     "data": {
      "text/plain": [
       "'r'"
      ]
     },
     "execution_count": 53,
     "metadata": {},
     "output_type": "execute_result"
    }
   ],
   "source": [
    "new_point = [4.5,4.5]\n",
    "result = k_nearest_neighbors(dataset, new_point)\n",
    "result"
   ]
  },
  {
   "cell_type": "code",
   "execution_count": 18,
   "id": "655a4556-5c9a-41af-8d85-caad577efc06",
   "metadata": {},
   "outputs": [
    {
     "data": {
      "image/png": "[encoded data removed]",
      "text/plain": [
       "<Figure size 640x480 with 1 Axes>"
      ]
     },
     "metadata": {},
     "output_type": "display_data"
    }
   ],
   "source": [
    "[[plt.scatter(ii[0], ii[1], s = 50, color = i) for ii in dataset[i]] for i in dataset]\n",
    "plt.scatter(new_point[0], new_point[1], s = 100, color = result)\n",
    "plt.show()"
   ]
  },
  {
   "cell_type": "markdown",
   "id": "b446f36e-1fa3-44ac-8319-bb3cedf0339a",
   "metadata": {},
   "source": [
    "## Aplicando nuestro KNN al dataset Cancer"
   ]
  },
  {
   "cell_type": "code",
   "execution_count": 58,
   "id": "634c1afa-9b4e-4b01-9575-a813252043c3",
   "metadata": {},
   "outputs": [
    {
     "name": "stderr",
     "output_type": "stream",
     "text": [
      "C:\\Users\\SANDRO\\AppData\\Local\\Temp\\ipykernel_1444\\3858944503.py:4: FutureWarning: In a future version of pandas all arguments of DataFrame.drop except for the argument 'labels' will be keyword-only.\n",
      "  df = df.drop([\"Name\"],1)\n"
     ]
    }
   ],
   "source": [
    "df = pd.read_csv(\"../datasets/cancer/breast-cancer-wisconsin.data.txt\")\n",
    "df.replace(\"?\", -99999, inplace = True)\n",
    "df.columns = ['Name', 'V1', 'V2', 'V3', 'V4', 'V5', 'V6', 'V7', 'V8', 'V9', 'Class']\n",
    "df = df.drop([\"Name\"],1)"
   ]
  },
  {
   "cell_type": "code",
   "execution_count": 59,
   "id": "43e6b162-9a61-4ca3-b899-b673c59b4c28",
   "metadata": {},
   "outputs": [],
   "source": [
    "full_data = df.astype(float).values.tolist()"
   ]
  },
  {
   "cell_type": "code",
   "execution_count": 60,
   "id": "9dd1116a-f866-474b-a53e-58499c4b02ff",
   "metadata": {},
   "outputs": [],
   "source": [
    "random.shuffle(full_data)\n",
    "test_size = 0.2"
   ]
  },
  {
   "cell_type": "code",
   "execution_count": 61,
   "id": "1ec2313c-a45f-439d-a99a-d2a15630417d",
   "metadata": {},
   "outputs": [],
   "source": [
    "train_set = {2:[], 4:[]}\n",
    "test_set = {2:[], 4:[]}"
   ]
  },
  {
   "cell_type": "code",
   "execution_count": 62,
   "id": "6f154170-9139-499c-aa03-b89a591dd290",
   "metadata": {},
   "outputs": [],
   "source": [
    "train_data = full_data[:-int(test_size * len(full_data))]\n",
    "test_data = full_data[-int(test_size *len(full_data)):]"
   ]
  },
  {
   "cell_type": "code",
   "execution_count": 63,
   "id": "a44fe6a8-0d3f-4548-9d8c-6d25b92bac5d",
   "metadata": {},
   "outputs": [],
   "source": [
    "for i in train_data:\n",
    "    train_set[i[-1]].append(i[:-1])\n",
    "    \n",
    "for i in test_data:\n",
    "    test_set[i[-1]].append(i[:-1])"
   ]
  },
  {
   "cell_type": "code",
   "execution_count": 71,
   "id": "85536e06-71bd-4d52-aeb6-c326051c99cc",
   "metadata": {},
   "outputs": [
    {
     "name": "stdout",
     "output_type": "stream",
     "text": [
      "Eficacia del KNN =  0.9496402877697842\n"
     ]
    }
   ],
   "source": [
    "correct = 0\n",
    "total = 0\n",
    "for group in test_set:\n",
    "    for data in test_set[group]:\n",
    "        vote = k_nearest_neighbors(train_set, data, k = 5)\n",
    "        if group == vote:\n",
    "            correct +=1\n",
    "        total +=1\n",
    "print('Eficacia del KNN = ', correct/total)"
   ]
  }
 ],
 "metadata": {
  "kernelspec": {
   "display_name": "Python 3 (ipykernel)",
   "language": "python",
   "name": "python3"
  },
  "language_info": {
   "codemirror_mode": {
    "name": "ipython",
    "version": 3
   },
   "file_extension": ".py",
   "mimetype": "text/x-python",
   "name": "python",
   "nbconvert_exporter": "python",
   "pygments_lexer": "ipython3",
   "version": "3.11.1"
  }
 },
 "nbformat": 4,
 "nbformat_minor": 5
}
