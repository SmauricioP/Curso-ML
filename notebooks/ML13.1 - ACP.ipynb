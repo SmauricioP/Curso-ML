{
 "cells": [
  {
   "cell_type": "markdown",
   "id": "dde78f28-21af-4fa8-ae07-d6b9dc4e3a88",
   "metadata": {},
   "source": [
    "# Análisis de Componentes Principales - Paso a Paso"
   ]
  },
  {
   "cell_type": "markdown",
   "id": "85ec8f88-b759-4acf-b797-5ce41fdb3559",
   "metadata": {},
   "source": [
    "* Estandarizar los datos.\n",
    "* Obtener eigenvalues y eigenvectors de la matriz de covarianzas o de correlaciones o incluso SVD.\n",
    "* Ordenar eigenvalues en orden descendente y quedarnos con los $p$ que se corresponden a los $p$ mayores y así disminuír el número de variables del dataset $(p<m)$.\n",
    "* Construir matriz de proyección $W$ a partir de los $p$ vectores propios.\n",
    "* Transformar el dataset original $X$ a través de $W$ para así obtener datos en el subespacio vectorial de dimensión $p$, que será $Y$."
   ]
  },
  {
   "cell_type": "markdown",
   "id": "41a53bb5-abfb-4503-b46d-b678bf5639dd",
   "metadata": {},
   "source": [
    "## Importación de librerías"
   ]
  },
  {
   "cell_type": "code",
   "execution_count": 1,
   "id": "c358e302-2577-4ca2-8061-c3329fe8ef9b",
   "metadata": {},
   "outputs": [],
   "source": [
    "import pandas as pd\n",
    "import numpy as np\n",
    "\n",
    "from sklearn.preprocessing import StandardScaler"
   ]
  },
  {
   "cell_type": "markdown",
   "id": "6baaf98e-72e5-445d-8d3e-334bcc4446db",
   "metadata": {},
   "source": [
    "## Lectura de datos"
   ]
  },
  {
   "cell_type": "code",
   "execution_count": 2,
   "id": "81da6d91-05bd-4798-87a5-c7da55d8cd15",
   "metadata": {},
   "outputs": [
    {
     "data": {
      "text/html": [
       "<div>\n",
       "<style scoped>\n",
       "    .dataframe tbody tr th:only-of-type {\n",
       "        vertical-align: middle;\n",
       "    }\n",
       "\n",
       "    .dataframe tbody tr th {\n",
       "        vertical-align: top;\n",
       "    }\n",
       "\n",
       "    .dataframe thead th {\n",
       "        text-align: right;\n",
       "    }\n",
       "</style>\n",
       "<table border=\"1\" class=\"dataframe\">\n",
       "  <thead>\n",
       "    <tr style=\"text-align: right;\">\n",
       "      <th></th>\n",
       "      <th>Sepal.Length</th>\n",
       "      <th>Sepal.Width</th>\n",
       "      <th>Petal.Length</th>\n",
       "      <th>Petal.Width</th>\n",
       "      <th>Species</th>\n",
       "    </tr>\n",
       "  </thead>\n",
       "  <tbody>\n",
       "    <tr>\n",
       "      <th>0</th>\n",
       "      <td>5.1</td>\n",
       "      <td>3.5</td>\n",
       "      <td>1.4</td>\n",
       "      <td>0.2</td>\n",
       "      <td>setosa</td>\n",
       "    </tr>\n",
       "    <tr>\n",
       "      <th>1</th>\n",
       "      <td>4.9</td>\n",
       "      <td>3.0</td>\n",
       "      <td>1.4</td>\n",
       "      <td>0.2</td>\n",
       "      <td>setosa</td>\n",
       "    </tr>\n",
       "    <tr>\n",
       "      <th>2</th>\n",
       "      <td>4.7</td>\n",
       "      <td>3.2</td>\n",
       "      <td>1.3</td>\n",
       "      <td>0.2</td>\n",
       "      <td>setosa</td>\n",
       "    </tr>\n",
       "    <tr>\n",
       "      <th>3</th>\n",
       "      <td>4.6</td>\n",
       "      <td>3.1</td>\n",
       "      <td>1.5</td>\n",
       "      <td>0.2</td>\n",
       "      <td>setosa</td>\n",
       "    </tr>\n",
       "    <tr>\n",
       "      <th>4</th>\n",
       "      <td>5.0</td>\n",
       "      <td>3.6</td>\n",
       "      <td>1.4</td>\n",
       "      <td>0.2</td>\n",
       "      <td>setosa</td>\n",
       "    </tr>\n",
       "  </tbody>\n",
       "</table>\n",
       "</div>"
      ],
      "text/plain": [
       "   Sepal.Length  Sepal.Width  Petal.Length  Petal.Width Species\n",
       "0           5.1          3.5           1.4          0.2  setosa\n",
       "1           4.9          3.0           1.4          0.2  setosa\n",
       "2           4.7          3.2           1.3          0.2  setosa\n",
       "3           4.6          3.1           1.5          0.2  setosa\n",
       "4           5.0          3.6           1.4          0.2  setosa"
      ]
     },
     "execution_count": 2,
     "metadata": {},
     "output_type": "execute_result"
    }
   ],
   "source": [
    "df = pd.read_csv(\"../datasets/iris/iris.csv\")\n",
    "df.head()"
   ]
  },
  {
   "cell_type": "code",
   "execution_count": 3,
   "id": "a35ea1b2-0c8c-44fe-97df-7b9ee3ccc5e7",
   "metadata": {},
   "outputs": [],
   "source": [
    "x = df.iloc[:,0:4].values\n",
    "y = df.iloc[:,4].values"
   ]
  },
  {
   "cell_type": "code",
   "execution_count": 4,
   "id": "ad974038-785d-4ac1-89f9-5c21e1e0be0e",
   "metadata": {},
   "outputs": [],
   "source": [
    "x_std = StandardScaler().fit_transform(x)"
   ]
  },
  {
   "cell_type": "markdown",
   "id": "11a20c3e-1a67-4147-8e40-62a099435caf",
   "metadata": {},
   "source": [
    "## Cálculo de los eigenvalues y eigenvectors"
   ]
  },
  {
   "cell_type": "markdown",
   "id": "b489d1df-c79f-469b-98c3-168cf2393622",
   "metadata": {},
   "source": [
    "### Utilizando la matriz de covarianza"
   ]
  },
  {
   "cell_type": "markdown",
   "id": "3a9d8a99-0084-4eab-a3ce-93ee5c8ae8c4",
   "metadata": {},
   "source": [
    "Teniendo en cuenta las siguientes expresiones"
   ]
  },
  {
   "cell_type": "markdown",
   "id": "48b4669f-e91c-4201-b076-0ecfad7d1608",
   "metadata": {},
   "source": [
    "$$\n",
    "\\begin{align}\n",
    "\\sigma_{jk} &= \\frac{1}{n-1}\\sum_{i=1}^m \\left(x_{ij} - \\overline{x_j}\\right) \\left(x_{ik}-\\overline{x_k}\\right)\\\\\n",
    "\\Sigma &= \\frac{1}{n-1} \\left( X - \\overline{x} \\right)^T\\left( X - \\overline{x} \\right) \\\\\n",
    "\\overline x &= \\sum_{i=1} ^n x_i\n",
    "\\end{align}\n",
    "$$"
   ]
  },
  {
   "cell_type": "code",
   "execution_count": 5,
   "id": "289ffdab-cdb6-47cd-ac91-488be15ffa3d",
   "metadata": {},
   "outputs": [
    {
     "data": {
      "text/plain": [
       "array([[ 1.00671141, -0.11835884,  0.87760447,  0.82343066],\n",
       "       [-0.11835884,  1.00671141, -0.43131554, -0.36858315],\n",
       "       [ 0.87760447, -0.43131554,  1.00671141,  0.96932762],\n",
       "       [ 0.82343066, -0.36858315,  0.96932762,  1.00671141]])"
      ]
     },
     "execution_count": 5,
     "metadata": {},
     "output_type": "execute_result"
    }
   ],
   "source": [
    "mean_vect = np.mean(x_std, axis = 0)\n",
    "cov_matrix = (x_std - mean_vect).T.dot((x_std - mean_vect))/(x_std.shape[0]-1)\n",
    "cov_matrix"
   ]
  },
  {
   "cell_type": "code",
   "execution_count": 6,
   "id": "e4a70fb0-04ed-485f-b6f9-c646d5ea548e",
   "metadata": {},
   "outputs": [],
   "source": [
    "eig_vals, eig_vect = np.linalg.eig(cov_matrix)"
   ]
  },
  {
   "cell_type": "markdown",
   "id": "09a53cb8-25d0-48d3-ae33-0ef691a7ea1c",
   "metadata": {},
   "source": [
    "### Utilizando la matriz de correlaciones"
   ]
  },
  {
   "cell_type": "code",
   "execution_count": 7,
   "id": "147c94a1-eaf2-4336-b209-bfc4b0a26a03",
   "metadata": {},
   "outputs": [
    {
     "data": {
      "text/plain": [
       "array([[ 1.        , -0.11756978,  0.87175378,  0.81794113],\n",
       "       [-0.11756978,  1.        , -0.4284401 , -0.36612593],\n",
       "       [ 0.87175378, -0.4284401 ,  1.        ,  0.96286543],\n",
       "       [ 0.81794113, -0.36612593,  0.96286543,  1.        ]])"
      ]
     },
     "execution_count": 7,
     "metadata": {},
     "output_type": "execute_result"
    }
   ],
   "source": [
    "cor_mat = np.corrcoef(x_std.T)\n",
    "cor_mat"
   ]
  },
  {
   "cell_type": "code",
   "execution_count": 8,
   "id": "5ff95ecb-ef09-408b-91e9-6a2397e0f8c6",
   "metadata": {},
   "outputs": [],
   "source": [
    "eig_val_cor, eig_vec_cor = np.linalg.eig(cor_mat)"
   ]
  },
  {
   "cell_type": "markdown",
   "id": "73591652-cdba-4ea5-bb5a-1959217e78fb",
   "metadata": {},
   "source": [
    "### Singular Value Decompositon"
   ]
  },
  {
   "cell_type": "code",
   "execution_count": 9,
   "id": "76debfe0-9a45-4433-9fc6-e796d386cb73",
   "metadata": {},
   "outputs": [],
   "source": [
    "u,s,v = np.linalg.svd(x_std.T)"
   ]
  },
  {
   "cell_type": "code",
   "execution_count": 10,
   "id": "5e14fc39-3737-4a7c-8414-4bb9b46c8bbd",
   "metadata": {},
   "outputs": [
    {
     "data": {
      "text/plain": [
       "array([[-0.52106591, -0.37741762,  0.71956635,  0.26128628],\n",
       "       [ 0.26934744, -0.92329566, -0.24438178, -0.12350962],\n",
       "       [-0.5804131 , -0.02449161, -0.14212637, -0.80144925],\n",
       "       [-0.56485654, -0.06694199, -0.63427274,  0.52359713]])"
      ]
     },
     "execution_count": 10,
     "metadata": {},
     "output_type": "execute_result"
    }
   ],
   "source": [
    "u"
   ]
  },
  {
   "cell_type": "code",
   "execution_count": 11,
   "id": "6404c3b3-866b-46ea-b05c-d4a892fdc4e3",
   "metadata": {},
   "outputs": [
    {
     "data": {
      "text/plain": [
       "array([20.92306556, 11.7091661 ,  4.69185798,  1.76273239])"
      ]
     },
     "execution_count": 11,
     "metadata": {},
     "output_type": "execute_result"
    }
   ],
   "source": [
    "s"
   ]
  },
  {
   "cell_type": "code",
   "execution_count": 12,
   "id": "f42b216a-c04c-4658-a84a-7de375d10585",
   "metadata": {},
   "outputs": [
    {
     "data": {
      "text/plain": [
       "array([[ 1.08239531e-01,  9.94577561e-02,  1.12996303e-01, ...,\n",
       "        -7.27030413e-02, -6.56112167e-02, -4.59137323e-02],\n",
       "       [-4.09957970e-02,  5.75731483e-02,  2.92000319e-02, ...,\n",
       "        -2.29793601e-02, -8.63643414e-02,  2.07800179e-03],\n",
       "       [ 2.72186462e-02,  5.00034005e-02, -9.42089147e-03, ...,\n",
       "        -3.84023516e-02, -1.98939364e-01, -1.12588405e-01],\n",
       "       ...,\n",
       "       [ 5.43380310e-02,  5.12936114e-03,  2.75184277e-02, ...,\n",
       "         9.89532683e-01, -1.41206665e-02, -8.30595907e-04],\n",
       "       [ 1.96438400e-03,  8.48544595e-02,  1.78604309e-01, ...,\n",
       "        -1.25488246e-02,  9.52049996e-01, -2.19201906e-02],\n",
       "       [ 2.46978090e-03,  5.83496936e-03,  1.49419118e-01, ...,\n",
       "        -7.17729676e-04, -2.32048811e-02,  9.77300244e-01]])"
      ]
     },
     "execution_count": 12,
     "metadata": {},
     "output_type": "execute_result"
    }
   ],
   "source": [
    "v"
   ]
  },
  {
   "cell_type": "markdown",
   "id": "cefb2ab4-d776-4384-b7d5-a1faa50d65c1",
   "metadata": {},
   "source": [
    "## Componentes principaes"
   ]
  },
  {
   "cell_type": "code",
   "execution_count": 13,
   "id": "7a122903-383b-4742-8c7e-ac732d89a6ca",
   "metadata": {},
   "outputs": [
    {
     "name": "stdout",
     "output_type": "stream",
     "text": [
      "Longitud del eigenvector es: 1.0000\n",
      "Longitud del eigenvector es: 1.0000\n",
      "Longitud del eigenvector es: 1.0000\n",
      "Longitud del eigenvector es: 1.0000\n"
     ]
    }
   ],
   "source": [
    "for ev in eig_vect:\n",
    "    print('Longitud del eigenvector es: {:.4f}'.format(np.linalg.norm(ev)))"
   ]
  },
  {
   "cell_type": "code",
   "execution_count": 14,
   "id": "528da5fa-1b75-4d26-9b9c-0394f5fd6d4b",
   "metadata": {},
   "outputs": [],
   "source": [
    "eigen_pairs = [(np.abs(eig_vals[i]), eig_vect[:,i]) for i in range(len(eig_vals))]"
   ]
  },
  {
   "cell_type": "code",
   "execution_count": 15,
   "id": "4231a53d-712f-4e5b-b050-c382ac0c0e4b",
   "metadata": {},
   "outputs": [
    {
     "data": {
      "text/plain": [
       "[(2.9380850501999953,\n",
       "  array([ 0.52106591, -0.26934744,  0.5804131 ,  0.56485654])),\n",
       " (0.9201649041624852,\n",
       "  array([-0.37741762, -0.92329566, -0.02449161, -0.06694199])),\n",
       " (0.14774182104494754,\n",
       "  array([-0.71956635,  0.24438178,  0.14212637,  0.63427274])),\n",
       " (0.020853862176463244,\n",
       "  array([ 0.26128628, -0.12350962, -0.80144925,  0.52359713]))]"
      ]
     },
     "execution_count": 15,
     "metadata": {},
     "output_type": "execute_result"
    }
   ],
   "source": [
    "eigen_pairs"
   ]
  },
  {
   "cell_type": "code",
   "execution_count": 16,
   "id": "dc38f558-569b-4932-82ca-ea79e7627822",
   "metadata": {},
   "outputs": [
    {
     "name": "stdout",
     "output_type": "stream",
     "text": [
      "2.9380850501999953\n",
      "0.9201649041624852\n",
      "0.14774182104494754\n",
      "0.020853862176463244\n"
     ]
    }
   ],
   "source": [
    "for ep in eigen_pairs:\n",
    "    print(ep[0])"
   ]
  },
  {
   "cell_type": "code",
   "execution_count": 17,
   "id": "74897be6-8706-46d2-aba5-1034606a85e9",
   "metadata": {},
   "outputs": [],
   "source": [
    "total_sum = sum(eig_vals)\n",
    "var_exp = [(i/total_sum)*100 for i in sorted(eig_vals, reverse = True)]"
   ]
  },
  {
   "cell_type": "code",
   "execution_count": 18,
   "id": "039965f2-3b20-4c68-a29e-28b772f39a2e",
   "metadata": {},
   "outputs": [
    {
     "data": {
      "text/plain": [
       "[72.9624454132999, 22.850761786701725, 3.6689218892828652, 0.5178709107155041]"
      ]
     },
     "execution_count": 18,
     "metadata": {},
     "output_type": "execute_result"
    }
   ],
   "source": [
    "var_exp"
   ]
  },
  {
   "cell_type": "code",
   "execution_count": 19,
   "id": "23673839-ae44-44e1-9362-04da4bd65202",
   "metadata": {},
   "outputs": [],
   "source": [
    "W = np.hstack((eigen_pairs[0][1].reshape(4,1),\n",
    "              eigen_pairs[1][1].reshape(4,1)))"
   ]
  },
  {
   "cell_type": "code",
   "execution_count": 20,
   "id": "a2119d82-93a8-4879-b9f5-d4783e404166",
   "metadata": {},
   "outputs": [
    {
     "data": {
      "text/plain": [
       "array([5.1, 3.5, 1.4, 0.2])"
      ]
     },
     "execution_count": 20,
     "metadata": {},
     "output_type": "execute_result"
    }
   ],
   "source": [
    "x[0]"
   ]
  },
  {
   "cell_type": "markdown",
   "id": "0e0436aa-2f86-4c59-9a83-ae3a71f55d69",
   "metadata": {},
   "source": [
    "## Proyectando variables en nuevo subespacio vectorial"
   ]
  },
  {
   "cell_type": "markdown",
   "id": "5094e0f7-413a-4a2a-b73e-db5f09600abe",
   "metadata": {},
   "source": [
    "$$\n",
    "Y = XW, \\ X \\in M(\\mathbb R)_{150,4}, \\ W \\in M(\\mathbb R)_{4,2}, \\ Y \\in M(\\mathbb R)_{150,2}\n",
    "$$"
   ]
  },
  {
   "cell_type": "code",
   "execution_count": 21,
   "id": "ceaa6d88-36c8-4444-9de9-5a0d7b6b9fec",
   "metadata": {},
   "outputs": [],
   "source": [
    "Y = x_std.dot(W)"
   ]
  }
 ],
 "metadata": {
  "kernelspec": {
   "display_name": "Python 3 (ipykernel)",
   "language": "python",
   "name": "python3"
  },
  "language_info": {
   "codemirror_mode": {
    "name": "ipython",
    "version": 3
   },
   "file_extension": ".py",
   "mimetype": "text/x-python",
   "name": "python",
   "nbconvert_exporter": "python",
   "pygments_lexer": "ipython3",
   "version": "3.11.1"
  }
 },
 "nbformat": 4,
 "nbformat_minor": 5
}
