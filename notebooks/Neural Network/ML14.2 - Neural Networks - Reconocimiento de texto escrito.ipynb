{
 "cells": [
  {
   "cell_type": "markdown",
   "id": "e3c2a97e-5a25-49e3-aa4b-40bfe61b262c",
   "metadata": {},
   "source": [
    "# El dataset de MNIST"
   ]
  },
  {
   "cell_type": "code",
   "execution_count": 12,
   "id": "778b0da9-27c4-400c-9436-98994d0792e6",
   "metadata": {},
   "outputs": [],
   "source": [
    "import tensorflow as tf\n",
    "import numpy as np\n",
    "\n",
    "from skimage import io"
   ]
  },
  {
   "cell_type": "code",
   "execution_count": 5,
   "id": "4b447cfe-47b2-40a2-bf7c-3e46cfa7e0ff",
   "metadata": {},
   "outputs": [
    {
     "name": "stdout",
     "output_type": "stream",
     "text": [
      "Downloading data from https://storage.googleapis.com/tensorflow/tf-keras-datasets/mnist.npz\n",
      "11490434/11490434 [==============================] - 2s 0us/step\n"
     ]
    }
   ],
   "source": [
    "(train_images, train_labels), (test_images, test_labels) = tf.keras.datasets.mnist.load_data()"
   ]
  },
  {
   "cell_type": "code",
   "execution_count": 8,
   "id": "6bc4217a-5582-4b39-aa56-50ab7fbc29a2",
   "metadata": {},
   "outputs": [
    {
     "data": {
      "text/plain": [
       "10000"
      ]
     },
     "execution_count": 8,
     "metadata": {},
     "output_type": "execute_result"
    }
   ],
   "source": [
    "len(test_images)"
   ]
  },
  {
   "cell_type": "code",
   "execution_count": 13,
   "id": "029c292c-231e-4e0b-87c0-97c828e5c050",
   "metadata": {},
   "outputs": [],
   "source": [
    "im_temp = train_images[0]"
   ]
  },
  {
   "cell_type": "code",
   "execution_count": 15,
   "id": "18118e29-e1ab-443d-a776-12f72169dbc4",
   "metadata": {},
   "outputs": [
    {
     "data": {
      "text/plain": [
       "<matplotlib.image.AxesImage at 0x17e0a0b82b0>"
      ]
     },
     "execution_count": 15,
     "metadata": {},
     "output_type": "execute_result"
    },
    {
     "data": {
      "image/png": "[encoded data removed]",
      "text/plain": [
       "<Figure size 640x480 with 1 Axes>"
      ]
     },
     "metadata": {},
     "output_type": "display_data"
    }
   ],
   "source": [
    "io.imshow(np.reshape(im_temp, (28,28)))"
   ]
  },
  {
   "cell_type": "markdown",
   "id": "bb932eac-3a39-4553-8e2f-99e913a8ca6e",
   "metadata": {},
   "source": [
    "## Una red neuronal con TensorFlow - v1\n",
    "* Las imágenes de entrenamiento de MNIST viven en un espacio vectorial de dimensión $784$.\n",
    "* El dataset se puede pensar como 55000 filas y 784 columnas.\n",
    "* Cada dato del dataset es un número entre 0 y 1.\n",
    "\n",
    "$$\n",
    "y = \\text{softmax} (Wx+b)\n",
    "$$"
   ]
  },
  {
   "cell_type": "code",
   "execution_count": 20,
   "id": "119c1727-45ef-4f9d-8dad-cd41610034e3",
   "metadata": {},
   "outputs": [],
   "source": [
    "dim_input = 784\n",
    "n_categories = 10"
   ]
  },
  {
   "cell_type": "code",
   "execution_count": 19,
   "id": "23e50b45-fd53-4ebe-b786-2235fd92b354",
   "metadata": {},
   "outputs": [],
   "source": [
    "tf.compat.v1.disable_eager_execution()\n",
    "x = tf.compat.v1.placeholder(tf.float32, [None, 784])"
   ]
  },
  {
   "cell_type": "code",
   "execution_count": 21,
   "id": "965fda9a-aaa3-4b4a-aa1d-c12f4a5af14d",
   "metadata": {},
   "outputs": [],
   "source": [
    "W = tf.Variable(tf.zeros([dim_input, n_categories]))\n",
    "b = tf.Variable(tf.zeros([n_categories]))"
   ]
  },
  {
   "cell_type": "code",
   "execution_count": 22,
   "id": "fb89018e-4670-4178-9c62-574411f13a97",
   "metadata": {},
   "outputs": [],
   "source": [
    "softmax_args = tf.matmul(x, W) + b\n",
    "y_hat = tf.nn.softmax(softmax_args)"
   ]
  },
  {
   "cell_type": "markdown",
   "id": "b673be63-0821-49b9-91a2-ab58ad9bd3b4",
   "metadata": {},
   "source": [
    "## Entrenando la red neuronal\n",
    "* Loss: Es la pérdida y el objetivo es minimizarlo.\n",
    "\n",
    "**Cross entropy:**\n",
    "$$\n",
    "H_{y'}(y) = -\\sum_{i}y_i\\log(\\hat{y}_i)\n",
    "$$"
   ]
  },
  {
   "cell_type": "code",
   "execution_count": 23,
   "id": "d43bc322-b585-4591-89d6-424b51ac87fa",
   "metadata": {},
   "outputs": [],
   "source": [
    "tf.compat.v1.disable_eager_execution()\n",
    "y_ = tf.compat.v1.placeholder(tf.float32, [None, 10])"
   ]
  },
  {
   "cell_type": "code",
   "execution_count": 27,
   "id": "2d84888a-fd59-4c56-8765-e4d613de8b30",
   "metadata": {},
   "outputs": [],
   "source": [
    "cross_entropy = tf.reduce_mean(-tf.reduce_sum(y_ * tf.math.log(y_hat), axis = [1]))"
   ]
  },
  {
   "cell_type": "code",
   "execution_count": null,
   "id": "5af7c7a8-c51c-4fec-87c2-cb63fac2bc47",
   "metadata": {},
   "outputs": [],
   "source": [
    "# tf.nn.softmax_cross_entropy_with_logits(softmax_args, y_)"
   ]
  },
  {
   "cell_type": "code",
   "execution_count": 28,
   "id": "8a8fb25c-a79a-40a4-94fd-6f09cd278996",
   "metadata": {},
   "outputs": [],
   "source": [
    "train_step = tf.compat.v1.train.GradientDescentOptimizer(0.5).minimize(cross_entropy)"
   ]
  },
  {
   "cell_type": "code",
   "execution_count": 29,
   "id": "6f585b5c-9a91-499d-9ff4-5d2e2a2650d4",
   "metadata": {},
   "outputs": [],
   "source": [
    "session = tf.compat.v1.InteractiveSession()"
   ]
  },
  {
   "cell_type": "code",
   "execution_count": 31,
   "id": "5fca4274-a811-4e27-8759-40d37ba18234",
   "metadata": {},
   "outputs": [
    {
     "data": {
      "text/plain": [
       "<bound method Operation.run of <tf.Operation 'init' type=NoOp>>"
      ]
     },
     "execution_count": 31,
     "metadata": {},
     "output_type": "execute_result"
    }
   ],
   "source": [
    "tf.compat.v1.global_variables_initializer().run"
   ]
  },
  {
   "cell_type": "code",
   "execution_count": 47,
   "id": "1094a037-69f9-4760-84d2-4b74d877452d",
   "metadata": {},
   "outputs": [
    {
     "data": {
      "text/plain": [
       "60000"
      ]
     },
     "execution_count": 47,
     "metadata": {},
     "output_type": "execute_result"
    }
   ],
   "source": [
    "len(train_images)"
   ]
  },
  {
   "cell_type": "code",
   "execution_count": 61,
   "id": "04239a21-d2af-4175-a27b-8070fed9f489",
   "metadata": {},
   "outputs": [
    {
     "data": {
      "text/plain": [
       "(60000, 28, 28)"
      ]
     },
     "execution_count": 61,
     "metadata": {},
     "output_type": "execute_result"
    }
   ],
   "source": [
    "train_images.shape"
   ]
  },
  {
   "cell_type": "code",
   "execution_count": 84,
   "id": "51206acc-ddcc-47d1-9d1c-aa7f846cc712",
   "metadata": {},
   "outputs": [
    {
     "data": {
      "text/plain": [
       "(100, 784)"
      ]
     },
     "execution_count": 84,
     "metadata": {},
     "output_type": "execute_result"
    }
   ],
   "source": [
    "xd = train_images[np.random.choice(range(0,len(train_images)-1), 100, replace = False)]\n",
    "xd.T.reshape(100,-1).shape"
   ]
  }
 ],
 "metadata": {
  "kernelspec": {
   "display_name": "neural-kernel",
   "language": "python",
   "name": "neural-kernel"
  },
  "language_info": {
   "codemirror_mode": {
    "name": "ipython",
    "version": 3
   },
   "file_extension": ".py",
   "mimetype": "text/x-python",
   "name": "python",
   "nbconvert_exporter": "python",
   "pygments_lexer": "ipython3",
   "version": "3.10.9"
  }
 },
 "nbformat": 4,
 "nbformat_minor": 5
}
