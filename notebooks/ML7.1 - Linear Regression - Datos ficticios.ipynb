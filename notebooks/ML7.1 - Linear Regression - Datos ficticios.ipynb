{
 "cells": [
  {
   "cell_type": "markdown",
   "id": "138fd824",
   "metadata": {},
   "source": [
    "# Modelos de regresión lineal\n",
    "## Modelos con datos simulados\n",
    "* $ y = a + bx $\n",
    "* $ x $: 100 valores distribuídos según una $\\mathcal{N}(1.5,2.5)$\n",
    "* $y_e = 5 + 1.9x + \\varepsilon$\n",
    "* $\\varepsilon$ estará distribuído según $\\mathcal{N}(0,0.6)$"
   ]
  },
  {
   "cell_type": "code",
   "execution_count": 1,
   "id": "91ce6352",
   "metadata": {},
   "outputs": [],
   "source": [
    "import pandas as pd\n",
    "import numpy as np\n",
    "import matplotlib.pyplot as plt"
   ]
  },
  {
   "cell_type": "code",
   "execution_count": 2,
   "id": "bfcdce63",
   "metadata": {},
   "outputs": [],
   "source": [
    "x = np.random.normal(1.5,0.6,100)"
   ]
  },
  {
   "cell_type": "code",
   "execution_count": 3,
   "id": "a2b0f4bc",
   "metadata": {},
   "outputs": [],
   "source": [
    "res = np.random.normal(0,1.4,100)"
   ]
  },
  {
   "cell_type": "code",
   "execution_count": 4,
   "id": "4cfd3c08",
   "metadata": {},
   "outputs": [],
   "source": [
    "y_pred = 5 + 1.9*x"
   ]
  },
  {
   "cell_type": "code",
   "execution_count": 5,
   "id": "68dff4cf",
   "metadata": {},
   "outputs": [],
   "source": [
    "y_act = 5 + 1.9*x + res"
   ]
  },
  {
   "cell_type": "code",
   "execution_count": 6,
   "id": "e1c611a2",
   "metadata": {},
   "outputs": [
    {
     "data": {
      "text/html": [
       "<div>\n",
       "<style scoped>\n",
       "    .dataframe tbody tr th:only-of-type {\n",
       "        vertical-align: middle;\n",
       "    }\n",
       "\n",
       "    .dataframe tbody tr th {\n",
       "        vertical-align: top;\n",
       "    }\n",
       "\n",
       "    .dataframe thead th {\n",
       "        text-align: right;\n",
       "    }\n",
       "</style>\n",
       "<table border=\"1\" class=\"dataframe\">\n",
       "  <thead>\n",
       "    <tr style=\"text-align: right;\">\n",
       "      <th></th>\n",
       "      <th>x</th>\n",
       "      <th>y</th>\n",
       "      <th>y_pred</th>\n",
       "    </tr>\n",
       "  </thead>\n",
       "  <tbody>\n",
       "    <tr>\n",
       "      <th>0</th>\n",
       "      <td>1.868662</td>\n",
       "      <td>10.889369</td>\n",
       "      <td>8.550458</td>\n",
       "    </tr>\n",
       "    <tr>\n",
       "      <th>1</th>\n",
       "      <td>1.479542</td>\n",
       "      <td>9.239224</td>\n",
       "      <td>7.811129</td>\n",
       "    </tr>\n",
       "    <tr>\n",
       "      <th>2</th>\n",
       "      <td>0.729932</td>\n",
       "      <td>5.473957</td>\n",
       "      <td>6.386870</td>\n",
       "    </tr>\n",
       "    <tr>\n",
       "      <th>3</th>\n",
       "      <td>0.585211</td>\n",
       "      <td>5.581001</td>\n",
       "      <td>6.111901</td>\n",
       "    </tr>\n",
       "    <tr>\n",
       "      <th>4</th>\n",
       "      <td>1.185196</td>\n",
       "      <td>9.245073</td>\n",
       "      <td>7.251872</td>\n",
       "    </tr>\n",
       "  </tbody>\n",
       "</table>\n",
       "</div>"
      ],
      "text/plain": [
       "          x          y    y_pred\n",
       "0  1.868662  10.889369  8.550458\n",
       "1  1.479542   9.239224  7.811129\n",
       "2  0.729932   5.473957  6.386870\n",
       "3  0.585211   5.581001  6.111901\n",
       "4  1.185196   9.245073  7.251872"
      ]
     },
     "execution_count": 6,
     "metadata": {},
     "output_type": "execute_result"
    }
   ],
   "source": [
    "data = pd.DataFrame(\n",
    "    {\n",
    "        \"x\": x,\n",
    "        \"y\": y_act,\n",
    "        \"y_pred\": y_pred\n",
    "    }\n",
    ")\n",
    "data.head()"
   ]
  },
  {
   "cell_type": "code",
   "execution_count": 7,
   "id": "83650803",
   "metadata": {},
   "outputs": [],
   "source": [
    "y_mean = [np.mean(y_act) for i in range(1, len(x) + 1)]"
   ]
  },
  {
   "cell_type": "code",
   "execution_count": 8,
   "id": "0aa4684b",
   "metadata": {},
   "outputs": [
    {
     "data": {
      "image/png": "[encoded data removed]",
      "text/plain": [
       "<Figure size 432x288 with 1 Axes>"
      ]
     },
     "metadata": {
      "needs_background": "light"
     },
     "output_type": "display_data"
    }
   ],
   "source": [
    "plt.plot(x,y_pred)\n",
    "plt.scatter(x,y_act, color = \"green\")\n",
    "plt.axhline(np.mean(y_act), color = \"black\", linestyle = \"--\")\n",
    "plt.title(\"Valor actual vs predicción\")\n",
    "plt.show()"
   ]
  },
  {
   "cell_type": "code",
   "execution_count": 9,
   "id": "dca54b33",
   "metadata": {},
   "outputs": [],
   "source": [
    "data[\"SSR\"] = (data[\"y_pred\"] - np.mean(y_act)) ** 2\n",
    "data[\"SSD\"] = (data[\"y_pred\"] - data[\"y\"]) ** 2\n",
    "data[\"SST\"] = (data[\"y\"] - np.mean(y_act)) ** 2\n",
    "\n",
    "SSR = sum(data[\"SSR\"])\n",
    "SSD = sum(data[\"SSD\"])\n",
    "SST = sum(data[\"SST\"])\n",
    "\n",
    "R2 = SSR/SST"
   ]
  },
  {
   "cell_type": "code",
   "execution_count": 10,
   "id": "c9ae33f3",
   "metadata": {},
   "outputs": [
    {
     "data": {
      "image/png": "[encoded data removed]",
      "text/plain": [
       "<Figure size 432x288 with 1 Axes>"
      ]
     },
     "metadata": {
      "needs_background": "light"
     },
     "output_type": "display_data"
    }
   ],
   "source": [
    "plt.hist(data[\"y_pred\"] - data[\"y\"], edgecolor = \"black\")\n",
    "plt.show()"
   ]
  },
  {
   "cell_type": "markdown",
   "id": "c81c8a2b",
   "metadata": {},
   "source": [
    "## Obteniendo la recta de regresión\n",
    "Recordar que:\n",
    "$ y = \\beta_0 + \\beta_1x$"
   ]
  },
  {
   "cell_type": "code",
   "execution_count": 11,
   "id": "9f90077c",
   "metadata": {},
   "outputs": [
    {
     "data": {
      "text/plain": [
       "(1.4065380910945375, 7.767350788633374)"
      ]
     },
     "execution_count": 11,
     "metadata": {},
     "output_type": "execute_result"
    }
   ],
   "source": [
    "x_mean = np.mean(x)\n",
    "y_mean = np.mean(y_act)\n",
    "x_mean, y_mean"
   ]
  },
  {
   "cell_type": "code",
   "execution_count": 12,
   "id": "13d61c2d",
   "metadata": {},
   "outputs": [
    {
     "data": {
      "text/plain": [
       "(4.643391736682689, 2.2210269822978543)"
      ]
     },
     "execution_count": 12,
     "metadata": {},
     "output_type": "execute_result"
    }
   ],
   "source": [
    "beta_1 = data.cov()[\"x\"][\"y\"]/data.var()[\"x\"]\n",
    "beta_0 = y_mean - beta_1 * x_mean\n",
    "beta_0 , beta_1"
   ]
  },
  {
   "cell_type": "code",
   "execution_count": 13,
   "id": "c4f3b238",
   "metadata": {},
   "outputs": [
    {
     "data": {
      "image/png": "[encoded data removed]",
      "text/plain": [
       "<Figure size 432x288 with 1 Axes>"
      ]
     },
     "metadata": {
      "needs_background": "light"
     },
     "output_type": "display_data"
    }
   ],
   "source": [
    "plt.scatter(x,y_act, color = \"green\")\n",
    "plt.plot(x, beta_0 + x * beta_1, color = \"red\")\n",
    "plt.plot(x,y_pred, color = \"yellow\")\n",
    "plt.title(\"Modelo estimado\")\n",
    "plt.show()"
   ]
  },
  {
   "cell_type": "code",
   "execution_count": 14,
   "id": "eade0aa2",
   "metadata": {},
   "outputs": [],
   "source": [
    "data[\"y_model\"] = beta_0 + beta_1 * data[\"x\"]"
   ]
  },
  {
   "cell_type": "code",
   "execution_count": 15,
   "id": "7ca76f14",
   "metadata": {},
   "outputs": [
    {
     "data": {
      "text/plain": [
       "(0.38957875641618417, 0.5294610566094137)"
      ]
     },
     "execution_count": 15,
     "metadata": {},
     "output_type": "execute_result"
    }
   ],
   "source": [
    "data[\"SSR_M\"] = (data[\"y_model\"] - np.mean(y_act)) ** 2\n",
    "data[\"SSD_M\"] = (data[\"y_model\"] - data[\"y\"]) ** 2\n",
    "\n",
    "SSR_M = sum(data[\"SSR_M\"])\n",
    "SSD_M = sum(data[\"SSD_M\"])\n",
    "\n",
    "R2_M = SSR_M/SST\n",
    "\n",
    "R2, R2_M"
   ]
  },
  {
   "cell_type": "code",
   "execution_count": 16,
   "id": "ad72e292",
   "metadata": {},
   "outputs": [],
   "source": [
    "RSE = np.sqrt(SSD/(len(data)-2))"
   ]
  },
  {
   "cell_type": "code",
   "execution_count": 17,
   "id": "e70b3900",
   "metadata": {},
   "outputs": [
    {
     "data": {
      "text/plain": [
       "0.18679936552857082"
      ]
     },
     "execution_count": 17,
     "metadata": {},
     "output_type": "execute_result"
    }
   ],
   "source": [
    "RSE / y_mean"
   ]
  }
 ],
 "metadata": {
  "kernelspec": {
   "display_name": "Python 3",
   "language": "python",
   "name": "python3"
  },
  "language_info": {
   "codemirror_mode": {
    "name": "ipython",
    "version": 3
   },
   "file_extension": ".py",
   "mimetype": "text/x-python",
   "name": "python",
   "nbconvert_exporter": "python",
   "pygments_lexer": "ipython3",
   "version": "3.8.8"
  }
 },
 "nbformat": 4,
 "nbformat_minor": 5
}
