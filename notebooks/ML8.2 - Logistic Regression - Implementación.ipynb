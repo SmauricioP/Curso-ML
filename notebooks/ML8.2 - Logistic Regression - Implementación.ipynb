{
 "cells": [
  {
   "cell_type": "markdown",
   "id": "7f71600e",
   "metadata": {},
   "source": [
    "# Implementación de máxima verosimilitud para la regresión logística"
   ]
  },
  {
   "cell_type": "code",
   "execution_count": 1,
   "id": "4683caa0",
   "metadata": {},
   "outputs": [],
   "source": [
    "import pandas as pd\n",
    "import numpy as np"
   ]
  },
  {
   "cell_type": "markdown",
   "id": "04b9cd0d",
   "metadata": {},
   "source": [
    "## Definir la función de \"entorno\" $\\mathcal{L}(b)$"
   ]
  },
  {
   "cell_type": "markdown",
   "id": "d81e8807",
   "metadata": {},
   "source": [
    "La verosimilitud será en cierta manera igual a la probabilidad de encontrar la muestra que se ha extraído en función de los parámetros.\n",
    "$$L(\\beta) = \\sum_{i = 1}^{n}p_i^{y_i}(1-p_i)^{1-y_i}$$"
   ]
  },
  {
   "cell_type": "code",
   "execution_count": 2,
   "id": "af5055e7",
   "metadata": {},
   "outputs": [],
   "source": [
    "def likelihood(y, pi):\n",
    "    n = len(pi)\n",
    "    m = len(y)\n",
    "    \n",
    "    if n != m:\n",
    "        print(\"Error: Observation and probability vector have different lengths.\")\n",
    "        return 0\n",
    "    else:\n",
    "        like = 0\n",
    "        term = list(np.repeat(0,n))\n",
    "        \n",
    "        for i in range(n):\n",
    "            term[i] = np.where(y[i] == 1, pi[i], 1-pi[i])\n",
    "            like = like + term[i]\n",
    "        return like"
   ]
  },
  {
   "cell_type": "markdown",
   "id": "6f8a5fa5",
   "metadata": {},
   "source": [
    "## Calcular las probabilidades para cada observación"
   ]
  },
  {
   "cell_type": "markdown",
   "id": "5698bbca",
   "metadata": {},
   "source": [
    "Recordar que las probabilidades para el modelo logístico se hallaban de la siguiente manera:\n",
    "\n",
    "$$ p_i := P(y_i = 1\\vert x = x_0) = \\frac{1}{1+e^{-\\beta' x_0}} $$"
   ]
  },
  {
   "cell_type": "code",
   "execution_count": 3,
   "id": "09747183",
   "metadata": {},
   "outputs": [],
   "source": [
    "def logitprobs(X, beta):\n",
    "    n_rows = np.shape(X)[0]\n",
    "    n_cols = np.shape(X)[1]\n",
    "    \n",
    "    pi = list(np.repeat(0, n_rows))\n",
    "    expon = list(np.repeat(0, n_rows))\n",
    "    \n",
    "    for i in range(n_rows):\n",
    "        for j in range(n_cols):\n",
    "            ex = X[i,j] * beta[j,0]\n",
    "            expon[i] = ex + expon[i]\n",
    "            \n",
    "        with np.errstate(divide = \"ignore\", invalid = \"ignore\"):\n",
    "            pi[i] = 1/(1+np.exp(-expon[i]))\n",
    "    \n",
    "    return pi"
   ]
  },
  {
   "cell_type": "markdown",
   "id": "ff87fc1f",
   "metadata": {},
   "source": [
    "## Calcular la matriz diagonal $W$"
   ]
  },
  {
   "cell_type": "markdown",
   "id": "b82309c0",
   "metadata": {},
   "source": [
    "$$ W = \\text{diag}\\left( p_1(1-p_1), \\ldots, p_n(1-p_n)\\right)$$"
   ]
  },
  {
   "cell_type": "code",
   "execution_count": 4,
   "id": "5ac2fa66",
   "metadata": {},
   "outputs": [],
   "source": [
    "def findW(pi):\n",
    "    n = len(pi)\n",
    "    W = np.zeros(n*n).reshape(n,n)\n",
    "    for i in range(n):\n",
    "        W[i,i] = float(pi[i] * (1 - pi[i]))\n",
    "    return W"
   ]
  },
  {
   "cell_type": "markdown",
   "id": "7e5efe45",
   "metadata": {},
   "source": [
    "### Obtener la solución de la función logística"
   ]
  },
  {
   "cell_type": "markdown",
   "id": "ecc9bc67",
   "metadata": {},
   "source": [
    "Obtenido del método de Newton-Raphson:\n",
    "\n",
    "$$ \\hat\\beta_{n} = \\hat\\beta_{n-1} - \\frac{f(\\hat\\beta_{n-1})}{f'(\\hat\\beta_{n-1})}$$"
   ]
  },
  {
   "cell_type": "code",
   "execution_count": 5,
   "id": "556d8008",
   "metadata": {},
   "outputs": [],
   "source": [
    "def logistic(X, Y, limit):\n",
    "    n_row = np.shape(X)[0]\n",
    "    intcp = np.ones(n_row).reshape(n_row,1)\n",
    "    X_new = np.append(X, intcp, axis = 1)\n",
    "    n_col = np.shape(X_new)[1]\n",
    "    beta = np.zeros(n_col).reshape(n_col,1)\n",
    "    root_dif = np.array(range(1, n_col + 1)).reshape(n_col,1)\n",
    "    iter_i = 10000\n",
    "    i = 1\n",
    "    while (iter_i > limit):\n",
    "        if i == 1:\n",
    "            print(\"Iteration \", i,\".\", sep = \"\")\n",
    "        else:\n",
    "            print(\"Iteration \", i,\".\", sep = \"\")\n",
    "        pi = logitprobs(X_new, beta)\n",
    "        W = findW(pi)\n",
    "        num = np.transpose(np.matrix(X_new)) * np.matrix(Y - np.transpose(pi)).transpose()\n",
    "        den = np.matrix(np.transpose(X_new) * np.matrix(W) * np.matrix(X_new))\n",
    "        root_dif = np.array(np.linalg.inv(den)*num)\n",
    "        beta = beta + root_dif\n",
    "        print(\"Beta: \\n\",beta, sep = \"\")\n",
    "        iter_i = np.sum(root_dif * root_dif)\n",
    "        print(\"Magnitude of error: {:.4f}\".format(iter_i),\"\\n\",sep = \"\")\n",
    "        ll = likelihood(Y, pi)\n",
    "        i += 1\n",
    "    return beta"
   ]
  },
  {
   "cell_type": "markdown",
   "id": "a1c77c39",
   "metadata": {},
   "source": [
    "## Comprobación experimental"
   ]
  },
  {
   "cell_type": "code",
   "execution_count": 6,
   "id": "d6453bb3",
   "metadata": {},
   "outputs": [],
   "source": [
    "X = np.array(range(10)).reshape(10,1)\n",
    "Y = [0,0,0,0,1,0,1,0,1,1]"
   ]
  },
  {
   "cell_type": "code",
   "execution_count": 7,
   "id": "0973e9f3",
   "metadata": {},
   "outputs": [
    {
     "name": "stdout",
     "output_type": "stream",
     "text": [
      "Iteration 1.\n",
      "Beta: \n",
      "[[ 0.43636364]\n",
      " [-2.36363636]]\n",
      "Magnitude of error: 5.7772\n",
      "\n",
      "Iteration 2.\n",
      "Beta: \n",
      "[[ 0.60426056]\n",
      " [-3.34641372]]\n",
      "Magnitude of error: 0.9940\n",
      "\n",
      "Iteration 3.\n",
      "Beta: \n",
      "[[ 0.65761412]\n",
      " [-3.66759924]]\n",
      "Magnitude of error: 0.1060\n",
      "\n",
      "Iteration 4.\n",
      "Beta: \n",
      "[[ 0.66217766]\n",
      " [-3.6953843 ]]\n",
      "Magnitude of error: 0.0008\n",
      "\n",
      "Iteration 5.\n",
      "Beta: \n",
      "[[ 0.66220827]\n",
      " [-3.69557172]]\n",
      "Magnitude of error: 0.0000\n",
      "\n"
     ]
    },
    {
     "data": {
      "text/plain": [
       "array([[ 0.66220827],\n",
       "       [-3.69557172]])"
      ]
     },
     "execution_count": 7,
     "metadata": {},
     "output_type": "execute_result"
    }
   ],
   "source": [
    "logistic(X, Y, 0.0000001)"
   ]
  },
  {
   "cell_type": "markdown",
   "id": "69795b58",
   "metadata": {},
   "source": [
    "## Con el paquete statsmodel"
   ]
  },
  {
   "cell_type": "code",
   "execution_count": 9,
   "id": "d6fca858",
   "metadata": {},
   "outputs": [],
   "source": [
    "import statsmodels.api as sm"
   ]
  },
  {
   "cell_type": "code",
   "execution_count": 15,
   "id": "c1152f35",
   "metadata": {},
   "outputs": [],
   "source": [
    "X_new = np.c_[[1]*10,X]"
   ]
  },
  {
   "cell_type": "code",
   "execution_count": 17,
   "id": "a167d53f",
   "metadata": {},
   "outputs": [],
   "source": [
    "logit_model = sm.Logit(Y,X_new)"
   ]
  },
  {
   "cell_type": "code",
   "execution_count": 18,
   "id": "26d63d17",
   "metadata": {},
   "outputs": [
    {
     "name": "stdout",
     "output_type": "stream",
     "text": [
      "Optimization terminated successfully.\n",
      "         Current function value: 0.431012\n",
      "         Iterations 6\n"
     ]
    }
   ],
   "source": [
    "result = logit_model.fit()"
   ]
  },
  {
   "cell_type": "code",
   "execution_count": 19,
   "id": "9c60e402",
   "metadata": {},
   "outputs": [
    {
     "data": {
      "text/html": [
       "<table class=\"simpletable\">\n",
       "<caption>Logit Regression Results</caption>\n",
       "<tr>\n",
       "  <th>Dep. Variable:</th>           <td>y</td>        <th>  No. Observations:  </th>  <td>    10</td> \n",
       "</tr>\n",
       "<tr>\n",
       "  <th>Model:</th>                 <td>Logit</td>      <th>  Df Residuals:      </th>  <td>     8</td> \n",
       "</tr>\n",
       "<tr>\n",
       "  <th>Method:</th>                 <td>MLE</td>       <th>  Df Model:          </th>  <td>     1</td> \n",
       "</tr>\n",
       "<tr>\n",
       "  <th>Date:</th>            <td>Thu, 13 Jan 2022</td> <th>  Pseudo R-squ.:     </th>  <td>0.3596</td> \n",
       "</tr>\n",
       "<tr>\n",
       "  <th>Time:</th>                <td>00:28:06</td>     <th>  Log-Likelihood:    </th> <td> -4.3101</td>\n",
       "</tr>\n",
       "<tr>\n",
       "  <th>converged:</th>             <td>True</td>       <th>  LL-Null:           </th> <td> -6.7301</td>\n",
       "</tr>\n",
       "<tr>\n",
       "  <th>Covariance Type:</th>     <td>nonrobust</td>    <th>  LLR p-value:       </th>  <td>0.02781</td>\n",
       "</tr>\n",
       "</table>\n",
       "<table class=\"simpletable\">\n",
       "<tr>\n",
       "    <td></td>       <th>coef</th>     <th>std err</th>      <th>z</th>      <th>P>|z|</th>  <th>[0.025</th>    <th>0.975]</th>  \n",
       "</tr>\n",
       "<tr>\n",
       "  <th>const</th> <td>   -3.6956</td> <td>    2.289</td> <td>   -1.615</td> <td> 0.106</td> <td>   -8.182</td> <td>    0.791</td>\n",
       "</tr>\n",
       "<tr>\n",
       "  <th>x1</th>    <td>    0.6622</td> <td>    0.400</td> <td>    1.655</td> <td> 0.098</td> <td>   -0.122</td> <td>    1.446</td>\n",
       "</tr>\n",
       "</table>"
      ],
      "text/plain": [
       "<class 'statsmodels.iolib.summary.Summary'>\n",
       "\"\"\"\n",
       "                           Logit Regression Results                           \n",
       "==============================================================================\n",
       "Dep. Variable:                      y   No. Observations:                   10\n",
       "Model:                          Logit   Df Residuals:                        8\n",
       "Method:                           MLE   Df Model:                            1\n",
       "Date:                Thu, 13 Jan 2022   Pseudo R-squ.:                  0.3596\n",
       "Time:                        00:28:06   Log-Likelihood:                -4.3101\n",
       "converged:                       True   LL-Null:                       -6.7301\n",
       "Covariance Type:            nonrobust   LLR p-value:                   0.02781\n",
       "==============================================================================\n",
       "                 coef    std err          z      P>|z|      [0.025      0.975]\n",
       "------------------------------------------------------------------------------\n",
       "const         -3.6956      2.289     -1.615      0.106      -8.182       0.791\n",
       "x1             0.6622      0.400      1.655      0.098      -0.122       1.446\n",
       "==============================================================================\n",
       "\"\"\""
      ]
     },
     "execution_count": 19,
     "metadata": {},
     "output_type": "execute_result"
    }
   ],
   "source": [
    "result.summary()"
   ]
  }
 ],
 "metadata": {
  "kernelspec": {
   "display_name": "Python 3",
   "language": "python",
   "name": "python3"
  },
  "language_info": {
   "codemirror_mode": {
    "name": "ipython",
    "version": 3
   },
   "file_extension": ".py",
   "mimetype": "text/x-python",
   "name": "python",
   "nbconvert_exporter": "python",
   "pygments_lexer": "ipython3",
   "version": "3.8.8"
  }
 },
 "nbformat": 4,
 "nbformat_minor": 5
}
