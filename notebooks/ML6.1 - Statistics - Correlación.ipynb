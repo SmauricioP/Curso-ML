{
 "cells": [
  {
   "cell_type": "code",
   "execution_count": 1,
   "id": "e8e66f38",
   "metadata": {},
   "outputs": [],
   "source": [
    "import pandas as pd\n",
    "import numpy as np\n",
    "import matplotlib.pyplot as plt"
   ]
  },
  {
   "cell_type": "code",
   "execution_count": 2,
   "id": "4dd66e37",
   "metadata": {},
   "outputs": [
    {
     "data": {
      "text/html": [
       "<div>\n",
       "<style scoped>\n",
       "    .dataframe tbody tr th:only-of-type {\n",
       "        vertical-align: middle;\n",
       "    }\n",
       "\n",
       "    .dataframe tbody tr th {\n",
       "        vertical-align: top;\n",
       "    }\n",
       "\n",
       "    .dataframe thead th {\n",
       "        text-align: right;\n",
       "    }\n",
       "</style>\n",
       "<table border=\"1\" class=\"dataframe\">\n",
       "  <thead>\n",
       "    <tr style=\"text-align: right;\">\n",
       "      <th></th>\n",
       "      <th>TV</th>\n",
       "      <th>Radio</th>\n",
       "      <th>Newspaper</th>\n",
       "      <th>Sales</th>\n",
       "    </tr>\n",
       "  </thead>\n",
       "  <tbody>\n",
       "    <tr>\n",
       "      <th>0</th>\n",
       "      <td>230.1</td>\n",
       "      <td>37.8</td>\n",
       "      <td>69.2</td>\n",
       "      <td>22.1</td>\n",
       "    </tr>\n",
       "    <tr>\n",
       "      <th>1</th>\n",
       "      <td>44.5</td>\n",
       "      <td>39.3</td>\n",
       "      <td>45.1</td>\n",
       "      <td>10.4</td>\n",
       "    </tr>\n",
       "    <tr>\n",
       "      <th>2</th>\n",
       "      <td>17.2</td>\n",
       "      <td>45.9</td>\n",
       "      <td>69.3</td>\n",
       "      <td>9.3</td>\n",
       "    </tr>\n",
       "    <tr>\n",
       "      <th>3</th>\n",
       "      <td>151.5</td>\n",
       "      <td>41.3</td>\n",
       "      <td>58.5</td>\n",
       "      <td>18.5</td>\n",
       "    </tr>\n",
       "  </tbody>\n",
       "</table>\n",
       "</div>"
      ],
      "text/plain": [
       "      TV  Radio  Newspaper  Sales\n",
       "0  230.1   37.8       69.2   22.1\n",
       "1   44.5   39.3       45.1   10.4\n",
       "2   17.2   45.9       69.3    9.3\n",
       "3  151.5   41.3       58.5   18.5"
      ]
     },
     "execution_count": 2,
     "metadata": {},
     "output_type": "execute_result"
    }
   ],
   "source": [
    "data_ads = pd.read_csv(\"../../datasets/ads/Advertising.csv\")\n",
    "data_ads.iloc[0:4]"
   ]
  },
  {
   "cell_type": "code",
   "execution_count": 3,
   "id": "f4d487a1",
   "metadata": {},
   "outputs": [
    {
     "data": {
      "text/plain": [
       "(200, 4)"
      ]
     },
     "execution_count": 3,
     "metadata": {},
     "output_type": "execute_result"
    }
   ],
   "source": [
    "data_ads.shape"
   ]
  },
  {
   "cell_type": "code",
   "execution_count": 4,
   "id": "93a70fc6",
   "metadata": {},
   "outputs": [],
   "source": [
    "data_ads[\"Corrn\"] = (data_ads[\"TV\"] - np.mean(data_ads[\"TV\"])) * (data_ads[\"Sales\"] - np.mean(data_ads[\"Sales\"]))"
   ]
  },
  {
   "cell_type": "code",
   "execution_count": 5,
   "id": "c279a528",
   "metadata": {},
   "outputs": [],
   "source": [
    "data_ads[\"Corr1\"] = (data_ads[\"TV\"] - np.mean(data_ads[\"TV\"])) ** 2"
   ]
  },
  {
   "cell_type": "code",
   "execution_count": 6,
   "id": "c4130e12",
   "metadata": {},
   "outputs": [],
   "source": [
    "data_ads[\"Corr2\"] = (data_ads[\"Sales\"] - np.mean(data_ads[\"Sales\"])) ** 2"
   ]
  },
  {
   "cell_type": "code",
   "execution_count": 7,
   "id": "bc1adeb5",
   "metadata": {},
   "outputs": [],
   "source": [
    "corr_pearson = sum(data_ads[\"Corrn\"])/np.sqrt(sum(data_ads[\"Corr1\"]*sum(data_ads[\"Corr2\"])))"
   ]
  },
  {
   "cell_type": "code",
   "execution_count": 8,
   "id": "1172d946",
   "metadata": {},
   "outputs": [],
   "source": [
    "data_ads = data_ads.drop([\"Corrn\",\"Corr1\",\"Corr2\"], axis = 1)"
   ]
  },
  {
   "cell_type": "code",
   "execution_count": 9,
   "id": "b6577acc",
   "metadata": {},
   "outputs": [],
   "source": [
    "def corrcoef(df, var1, var2):\n",
    "    df[\"Corrn\"] = (df[var1] - np.mean(df[var1])) * (df[var2] - np.mean(df[var2]))\n",
    "    df[\"Corr1\"] = (df[var1] - np.mean(df[var1])) ** 2\n",
    "    df[\"Corr2\"] = (df[var2] - np.mean(df[var2])) ** 2\n",
    "    corr_p = sum(df[\"Corrn\"])/np.sqrt(sum(df[\"Corr1\"]*sum(df[\"Corr2\"])))\n",
    "    df = df.drop([\"Corrn\",\"Corr1\",\"Corr2\"], axis = 1, inplace = True)\n",
    "    return corr_p"
   ]
  },
  {
   "cell_type": "code",
   "execution_count": 10,
   "id": "1232723a",
   "metadata": {},
   "outputs": [
    {
     "data": {
      "text/plain": [
       "0.7822244248616065"
      ]
     },
     "execution_count": 10,
     "metadata": {},
     "output_type": "execute_result"
    }
   ],
   "source": [
    "corrcoef(data_ads,\"TV\",\"Sales\")"
   ]
  },
  {
   "cell_type": "code",
   "execution_count": 11,
   "id": "6ae19f01",
   "metadata": {},
   "outputs": [
    {
     "name": "stdout",
     "output_type": "stream",
     "text": [
      "Correlación entre TV y Radio : 0.054809\n",
      "Correlación entre TV y Newspaper : 0.056648\n",
      "Correlación entre TV y Sales : 0.782224\n",
      "Correlación entre Radio y Newspaper : 0.354104\n",
      "Correlación entre Radio y Sales : 0.576223\n",
      "Correlación entre Newspaper y Sales : 0.228299\n"
     ]
    }
   ],
   "source": [
    "for i in data_ads.columns:\n",
    "    for j in data_ads.columns:\n",
    "        if data_ads.columns.tolist().index(i) < data_ads.columns.tolist().index(j):\n",
    "            print(\"Correlación entre\",i,\"y\", j,\n",
    "                  \":\",round(corrcoef(data_ads,i,j),6))  "
   ]
  },
  {
   "cell_type": "code",
   "execution_count": 12,
   "id": "fb5ea637",
   "metadata": {},
   "outputs": [
    {
     "data": {
      "image/png": "[encoded data removed]",
      "text/plain": [
       "<Figure size 432x288 with 1 Axes>"
      ]
     },
     "metadata": {
      "needs_background": "light"
     },
     "output_type": "display_data"
    }
   ],
   "source": [
    "plt.scatter(data_ads[\"TV\"],data_ads[\"Sales\"], color = \"green\")\n",
    "plt.xlabel(\"Gasto en TV\")\n",
    "plt.ylabel(\"Ventas producto\")\n",
    "plt.title(\"Dispersión gasto TV vs. ventas en producto\")\n",
    "plt.show()"
   ]
  },
  {
   "cell_type": "code",
   "execution_count": 13,
   "id": "4c7f7a50",
   "metadata": {},
   "outputs": [
    {
     "data": {
      "image/png": "[encoded data removed]",
      "text/plain": [
       "<Figure size 432x288 with 1 Axes>"
      ]
     },
     "metadata": {
      "needs_background": "light"
     },
     "output_type": "display_data"
    }
   ],
   "source": [
    "plt.scatter(data_ads[\"Newspaper\"],data_ads[\"Sales\"], color = \"red\")\n",
    "plt.xlabel(\"Gasto en periódico\")\n",
    "plt.ylabel(\"Ventas producto\")\n",
    "plt.title(\"Dispersión gasto TV vs. ventas en producto\")\n",
    "plt.show()"
   ]
  },
  {
   "cell_type": "code",
   "execution_count": 14,
   "id": "f35f0106",
   "metadata": {},
   "outputs": [
    {
     "data": {
      "text/html": [
       "<div>\n",
       "<style scoped>\n",
       "    .dataframe tbody tr th:only-of-type {\n",
       "        vertical-align: middle;\n",
       "    }\n",
       "\n",
       "    .dataframe tbody tr th {\n",
       "        vertical-align: top;\n",
       "    }\n",
       "\n",
       "    .dataframe thead th {\n",
       "        text-align: right;\n",
       "    }\n",
       "</style>\n",
       "<table border=\"1\" class=\"dataframe\">\n",
       "  <thead>\n",
       "    <tr style=\"text-align: right;\">\n",
       "      <th></th>\n",
       "      <th>TV</th>\n",
       "      <th>Radio</th>\n",
       "      <th>Newspaper</th>\n",
       "      <th>Sales</th>\n",
       "    </tr>\n",
       "  </thead>\n",
       "  <tbody>\n",
       "    <tr>\n",
       "      <th>TV</th>\n",
       "      <td>1.000000</td>\n",
       "      <td>0.054809</td>\n",
       "      <td>0.056648</td>\n",
       "      <td>0.782224</td>\n",
       "    </tr>\n",
       "    <tr>\n",
       "      <th>Radio</th>\n",
       "      <td>0.054809</td>\n",
       "      <td>1.000000</td>\n",
       "      <td>0.354104</td>\n",
       "      <td>0.576223</td>\n",
       "    </tr>\n",
       "    <tr>\n",
       "      <th>Newspaper</th>\n",
       "      <td>0.056648</td>\n",
       "      <td>0.354104</td>\n",
       "      <td>1.000000</td>\n",
       "      <td>0.228299</td>\n",
       "    </tr>\n",
       "    <tr>\n",
       "      <th>Sales</th>\n",
       "      <td>0.782224</td>\n",
       "      <td>0.576223</td>\n",
       "      <td>0.228299</td>\n",
       "      <td>1.000000</td>\n",
       "    </tr>\n",
       "  </tbody>\n",
       "</table>\n",
       "</div>"
      ],
      "text/plain": [
       "                 TV     Radio  Newspaper     Sales\n",
       "TV         1.000000  0.054809   0.056648  0.782224\n",
       "Radio      0.054809  1.000000   0.354104  0.576223\n",
       "Newspaper  0.056648  0.354104   1.000000  0.228299\n",
       "Sales      0.782224  0.576223   0.228299  1.000000"
      ]
     },
     "execution_count": 14,
     "metadata": {},
     "output_type": "execute_result"
    }
   ],
   "source": [
    "data_ads.corr()"
   ]
  },
  {
   "cell_type": "code",
   "execution_count": 15,
   "id": "f7c09ceb",
   "metadata": {},
   "outputs": [
    {
     "data": {
      "image/png": "[encoded data removed]",
      "text/plain": [
       "<Figure size 288x288 with 1 Axes>"
      ]
     },
     "metadata": {
      "needs_background": "light"
     },
     "output_type": "display_data"
    }
   ],
   "source": [
    "plt.matshow(data_ads.corr())\n",
    "plt.show()"
   ]
  }
 ],
 "metadata": {
  "kernelspec": {
   "display_name": "Python 3",
   "language": "python",
   "name": "python3"
  },
  "language_info": {
   "codemirror_mode": {
    "name": "ipython",
    "version": 3
   },
   "file_extension": ".py",
   "mimetype": "text/x-python",
   "name": "python",
   "nbconvert_exporter": "python",
   "pygments_lexer": "ipython3",
   "version": "3.8.8"
  }
 },
 "nbformat": 4,
 "nbformat_minor": 5
}
