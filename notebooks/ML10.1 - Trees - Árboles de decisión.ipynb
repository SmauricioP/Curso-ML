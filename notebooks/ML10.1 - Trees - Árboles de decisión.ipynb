{
 "cells": [
  {
   "cell_type": "markdown",
   "id": "853daa2f",
   "metadata": {},
   "source": [
    "# Árbol de decisión para especies de flores"
   ]
  },
  {
   "cell_type": "code",
   "execution_count": 26,
   "id": "913b79a7",
   "metadata": {},
   "outputs": [],
   "source": [
    "import pandas as pd\n",
    "import numpy as np\n",
    "import matplotlib.pyplot as plt\n",
    "import os # Acceder archivos del sistema operativo\n",
    "\n",
    "from sklearn.tree import DecisionTreeClassifier\n",
    "from sklearn.tree import export_graphviz\n",
    "from sklearn.model_selection import KFold\n",
    "from sklearn.model_selection import cross_val_score\n",
    "from graphviz import Source #Visualizar grafos"
   ]
  },
  {
   "cell_type": "code",
   "execution_count": 2,
   "id": "3165aebe",
   "metadata": {},
   "outputs": [
    {
     "data": {
      "text/html": [
       "<div>\n",
       "<style scoped>\n",
       "    .dataframe tbody tr th:only-of-type {\n",
       "        vertical-align: middle;\n",
       "    }\n",
       "\n",
       "    .dataframe tbody tr th {\n",
       "        vertical-align: top;\n",
       "    }\n",
       "\n",
       "    .dataframe thead th {\n",
       "        text-align: right;\n",
       "    }\n",
       "</style>\n",
       "<table border=\"1\" class=\"dataframe\">\n",
       "  <thead>\n",
       "    <tr style=\"text-align: right;\">\n",
       "      <th></th>\n",
       "      <th>Sepal.Length</th>\n",
       "      <th>Sepal.Width</th>\n",
       "      <th>Petal.Length</th>\n",
       "      <th>Petal.Width</th>\n",
       "      <th>Species</th>\n",
       "    </tr>\n",
       "  </thead>\n",
       "  <tbody>\n",
       "    <tr>\n",
       "      <th>0</th>\n",
       "      <td>5.1</td>\n",
       "      <td>3.5</td>\n",
       "      <td>1.4</td>\n",
       "      <td>0.2</td>\n",
       "      <td>setosa</td>\n",
       "    </tr>\n",
       "    <tr>\n",
       "      <th>1</th>\n",
       "      <td>4.9</td>\n",
       "      <td>3.0</td>\n",
       "      <td>1.4</td>\n",
       "      <td>0.2</td>\n",
       "      <td>setosa</td>\n",
       "    </tr>\n",
       "    <tr>\n",
       "      <th>2</th>\n",
       "      <td>4.7</td>\n",
       "      <td>3.2</td>\n",
       "      <td>1.3</td>\n",
       "      <td>0.2</td>\n",
       "      <td>setosa</td>\n",
       "    </tr>\n",
       "    <tr>\n",
       "      <th>3</th>\n",
       "      <td>4.6</td>\n",
       "      <td>3.1</td>\n",
       "      <td>1.5</td>\n",
       "      <td>0.2</td>\n",
       "      <td>setosa</td>\n",
       "    </tr>\n",
       "    <tr>\n",
       "      <th>4</th>\n",
       "      <td>5.0</td>\n",
       "      <td>3.6</td>\n",
       "      <td>1.4</td>\n",
       "      <td>0.2</td>\n",
       "      <td>setosa</td>\n",
       "    </tr>\n",
       "  </tbody>\n",
       "</table>\n",
       "</div>"
      ],
      "text/plain": [
       "   Sepal.Length  Sepal.Width  Petal.Length  Petal.Width Species\n",
       "0           5.1          3.5           1.4          0.2  setosa\n",
       "1           4.9          3.0           1.4          0.2  setosa\n",
       "2           4.7          3.2           1.3          0.2  setosa\n",
       "3           4.6          3.1           1.5          0.2  setosa\n",
       "4           5.0          3.6           1.4          0.2  setosa"
      ]
     },
     "execution_count": 2,
     "metadata": {},
     "output_type": "execute_result"
    }
   ],
   "source": [
    "data = pd.read_csv(\"../datasets/iris/iris.csv\")\n",
    "data.head()"
   ]
  },
  {
   "cell_type": "code",
   "execution_count": 3,
   "id": "d968287e",
   "metadata": {},
   "outputs": [
    {
     "data": {
      "text/plain": [
       "(150, 5)"
      ]
     },
     "execution_count": 3,
     "metadata": {},
     "output_type": "execute_result"
    }
   ],
   "source": [
    "data.shape"
   ]
  },
  {
   "cell_type": "code",
   "execution_count": 4,
   "id": "c9ff8e4e",
   "metadata": {},
   "outputs": [
    {
     "data": {
      "image/png": "[encoded data removed]",
      "text/plain": [
       "<Figure size 432x288 with 1 Axes>"
      ]
     },
     "metadata": {
      "needs_background": "light"
     },
     "output_type": "display_data"
    }
   ],
   "source": [
    "plt.hist(data[\"Species\"])\n",
    "plt.show()"
   ]
  },
  {
   "cell_type": "code",
   "execution_count": 5,
   "id": "7d662b7a",
   "metadata": {},
   "outputs": [
    {
     "data": {
      "text/plain": [
       "array(['setosa', 'versicolor', 'virginica'], dtype=object)"
      ]
     },
     "execution_count": 5,
     "metadata": {},
     "output_type": "execute_result"
    }
   ],
   "source": [
    "data.Species.unique()"
   ]
  },
  {
   "cell_type": "code",
   "execution_count": 6,
   "id": "8a08c375",
   "metadata": {},
   "outputs": [],
   "source": [
    "colnames = data.columns.values.tolist()\n",
    "predictors = colnames[:4]\n",
    "target = colnames[4]"
   ]
  },
  {
   "cell_type": "code",
   "execution_count": 7,
   "id": "94b4b3a7",
   "metadata": {},
   "outputs": [],
   "source": [
    "data[\"is_train\"] = (np.random.uniform(0,1, len(data)) <= 0.75).astype(int)"
   ]
  },
  {
   "cell_type": "code",
   "execution_count": 8,
   "id": "4e6d1d27",
   "metadata": {},
   "outputs": [
    {
     "data": {
      "image/png": "[encoded data removed]",
      "text/plain": [
       "<Figure size 432x288 with 1 Axes>"
      ]
     },
     "metadata": {
      "needs_background": "light"
     },
     "output_type": "display_data"
    }
   ],
   "source": [
    "plt.hist(data.is_train)\n",
    "plt.show()"
   ]
  },
  {
   "cell_type": "code",
   "execution_count": 9,
   "id": "f53f9510",
   "metadata": {},
   "outputs": [],
   "source": [
    "train, test = data[data[\"is_train\"] == True], data[data[\"is_train\"] == False]"
   ]
  },
  {
   "cell_type": "code",
   "execution_count": 10,
   "id": "dc6802c8",
   "metadata": {},
   "outputs": [
    {
     "data": {
      "text/plain": [
       "DecisionTreeClassifier(criterion='entropy', min_samples_split=20,\n",
       "                       random_state=99)"
      ]
     },
     "execution_count": 10,
     "metadata": {},
     "output_type": "execute_result"
    }
   ],
   "source": [
    "tree = DecisionTreeClassifier(criterion = \"entropy\", min_samples_split= 20, random_state = 99)\n",
    "tree.fit(train[predictors], train[target])"
   ]
  },
  {
   "cell_type": "code",
   "execution_count": 11,
   "id": "ad323d99",
   "metadata": {},
   "outputs": [],
   "source": [
    "preds = tree.predict(test[predictors])"
   ]
  },
  {
   "cell_type": "code",
   "execution_count": 12,
   "id": "018b94ff",
   "metadata": {},
   "outputs": [
    {
     "data": {
      "text/html": [
       "<div>\n",
       "<style scoped>\n",
       "    .dataframe tbody tr th:only-of-type {\n",
       "        vertical-align: middle;\n",
       "    }\n",
       "\n",
       "    .dataframe tbody tr th {\n",
       "        vertical-align: top;\n",
       "    }\n",
       "\n",
       "    .dataframe thead th {\n",
       "        text-align: right;\n",
       "    }\n",
       "</style>\n",
       "<table border=\"1\" class=\"dataframe\">\n",
       "  <thead>\n",
       "    <tr style=\"text-align: right;\">\n",
       "      <th>Predictions</th>\n",
       "      <th>setosa</th>\n",
       "      <th>versicolor</th>\n",
       "      <th>virginica</th>\n",
       "    </tr>\n",
       "    <tr>\n",
       "      <th>Actual</th>\n",
       "      <th></th>\n",
       "      <th></th>\n",
       "      <th></th>\n",
       "    </tr>\n",
       "  </thead>\n",
       "  <tbody>\n",
       "    <tr>\n",
       "      <th>setosa</th>\n",
       "      <td>19</td>\n",
       "      <td>0</td>\n",
       "      <td>0</td>\n",
       "    </tr>\n",
       "    <tr>\n",
       "      <th>versicolor</th>\n",
       "      <td>0</td>\n",
       "      <td>6</td>\n",
       "      <td>3</td>\n",
       "    </tr>\n",
       "    <tr>\n",
       "      <th>virginica</th>\n",
       "      <td>0</td>\n",
       "      <td>0</td>\n",
       "      <td>6</td>\n",
       "    </tr>\n",
       "  </tbody>\n",
       "</table>\n",
       "</div>"
      ],
      "text/plain": [
       "Predictions  setosa  versicolor  virginica\n",
       "Actual                                    \n",
       "setosa           19           0          0\n",
       "versicolor        0           6          3\n",
       "virginica         0           0          6"
      ]
     },
     "execution_count": 12,
     "metadata": {},
     "output_type": "execute_result"
    }
   ],
   "source": [
    "pd.crosstab(test[target], preds, rownames = [\"Actual\"], colnames = [\"Predictions\"])"
   ]
  },
  {
   "cell_type": "markdown",
   "id": "601ce4f0",
   "metadata": {},
   "source": [
    "## Visualización del árbol de decisión"
   ]
  },
  {
   "cell_type": "code",
   "execution_count": 13,
   "id": "650897a9",
   "metadata": {},
   "outputs": [],
   "source": [
    "with open(\"../resources/iris_dtree.dot\", \"w\") as dotfile:\n",
    "    export_graphviz(tree, out_file = dotfile, feature_names = predictors)\n",
    "    dotfile.close()"
   ]
  },
  {
   "cell_type": "code",
   "execution_count": 16,
   "id": "b96f7bd3",
   "metadata": {},
   "outputs": [
    {
     "data": {
      "image/svg+xml": [
       "<?xml version=\"1.0\" encoding=\"UTF-8\" standalone=\"no\"?>\n",
       "<!DOCTYPE svg PUBLIC \"-//W3C//DTD SVG 1.1//EN\"\n",
       " \"http://www.w3.org/Graphics/SVG/1.1/DTD/svg11.dtd\">\n",
       "<!-- Generated by graphviz version 2.43.0 (0)\n",
       " -->\n",
       "<!-- Title: Tree Pages: 1 -->\n",
       "<svg width=\"515pt\" height=\"373pt\"\n",
       " viewBox=\"0.00 0.00 514.50 373.00\" xmlns=\"http://www.w3.org/2000/svg\" xmlns:xlink=\"http://www.w3.org/1999/xlink\">\n",
       "<g id=\"graph0\" class=\"graph\" transform=\"scale(1 1) rotate(0) translate(4 369)\">\n",
       "<title>Tree</title>\n",
       "<polygon fill=\"white\" stroke=\"transparent\" points=\"-4,4 -4,-369 510.5,-369 510.5,4 -4,4\"/>\n",
       "<!-- 0 -->\n",
       "<g id=\"node1\" class=\"node\">\n",
       "<title>0</title>\n",
       "<polygon fill=\"none\" stroke=\"black\" points=\"247,-365 113,-365 113,-297 247,-297 247,-365\"/>\n",
       "<text text-anchor=\"middle\" x=\"180\" y=\"-349.8\" font-family=\"Times,serif\" font-size=\"14.00\">Petal.Length &lt;= 2.45</text>\n",
       "<text text-anchor=\"middle\" x=\"180\" y=\"-334.8\" font-family=\"Times,serif\" font-size=\"14.00\">entropy = 1.57</text>\n",
       "<text text-anchor=\"middle\" x=\"180\" y=\"-319.8\" font-family=\"Times,serif\" font-size=\"14.00\">samples = 116</text>\n",
       "<text text-anchor=\"middle\" x=\"180\" y=\"-304.8\" font-family=\"Times,serif\" font-size=\"14.00\">value = [31, 41, 44]</text>\n",
       "</g>\n",
       "<!-- 1 -->\n",
       "<g id=\"node2\" class=\"node\">\n",
       "<title>1</title>\n",
       "<polygon fill=\"none\" stroke=\"black\" points=\"165.5,-253.5 52.5,-253.5 52.5,-200.5 165.5,-200.5 165.5,-253.5\"/>\n",
       "<text text-anchor=\"middle\" x=\"109\" y=\"-238.3\" font-family=\"Times,serif\" font-size=\"14.00\">entropy = 0.0</text>\n",
       "<text text-anchor=\"middle\" x=\"109\" y=\"-223.3\" font-family=\"Times,serif\" font-size=\"14.00\">samples = 31</text>\n",
       "<text text-anchor=\"middle\" x=\"109\" y=\"-208.3\" font-family=\"Times,serif\" font-size=\"14.00\">value = [31, 0, 0]</text>\n",
       "</g>\n",
       "<!-- 0&#45;&gt;1 -->\n",
       "<g id=\"edge1\" class=\"edge\">\n",
       "<title>0&#45;&gt;1</title>\n",
       "<path fill=\"none\" stroke=\"black\" d=\"M156.95,-296.88C149.14,-285.67 140.41,-273.13 132.56,-261.85\"/>\n",
       "<polygon fill=\"black\" stroke=\"black\" points=\"135.35,-259.73 126.76,-253.52 129.6,-263.73 135.35,-259.73\"/>\n",
       "<text text-anchor=\"middle\" x=\"122.35\" y=\"-274.43\" font-family=\"Times,serif\" font-size=\"14.00\">True</text>\n",
       "</g>\n",
       "<!-- 2 -->\n",
       "<g id=\"node3\" class=\"node\">\n",
       "<title>2</title>\n",
       "<polygon fill=\"none\" stroke=\"black\" points=\"318,-261 184,-261 184,-193 318,-193 318,-261\"/>\n",
       "<text text-anchor=\"middle\" x=\"251\" y=\"-245.8\" font-family=\"Times,serif\" font-size=\"14.00\">Petal.Length &lt;= 4.75</text>\n",
       "<text text-anchor=\"middle\" x=\"251\" y=\"-230.8\" font-family=\"Times,serif\" font-size=\"14.00\">entropy = 0.999</text>\n",
       "<text text-anchor=\"middle\" x=\"251\" y=\"-215.8\" font-family=\"Times,serif\" font-size=\"14.00\">samples = 85</text>\n",
       "<text text-anchor=\"middle\" x=\"251\" y=\"-200.8\" font-family=\"Times,serif\" font-size=\"14.00\">value = [0, 41, 44]</text>\n",
       "</g>\n",
       "<!-- 0&#45;&gt;2 -->\n",
       "<g id=\"edge2\" class=\"edge\">\n",
       "<title>0&#45;&gt;2</title>\n",
       "<path fill=\"none\" stroke=\"black\" d=\"M203.05,-296.88C209.13,-288.15 215.76,-278.62 222.1,-269.51\"/>\n",
       "<polygon fill=\"black\" stroke=\"black\" points=\"224.98,-271.51 227.82,-261.3 219.24,-267.51 224.98,-271.51\"/>\n",
       "<text text-anchor=\"middle\" x=\"232.23\" y=\"-282.21\" font-family=\"Times,serif\" font-size=\"14.00\">False</text>\n",
       "</g>\n",
       "<!-- 3 -->\n",
       "<g id=\"node4\" class=\"node\">\n",
       "<title>3</title>\n",
       "<polygon fill=\"none\" stroke=\"black\" points=\"242.5,-157 105.5,-157 105.5,-89 242.5,-89 242.5,-157\"/>\n",
       "<text text-anchor=\"middle\" x=\"174\" y=\"-141.8\" font-family=\"Times,serif\" font-size=\"14.00\">Sepal.Length &lt;= 4.95</text>\n",
       "<text text-anchor=\"middle\" x=\"174\" y=\"-126.8\" font-family=\"Times,serif\" font-size=\"14.00\">entropy = 0.176</text>\n",
       "<text text-anchor=\"middle\" x=\"174\" y=\"-111.8\" font-family=\"Times,serif\" font-size=\"14.00\">samples = 38</text>\n",
       "<text text-anchor=\"middle\" x=\"174\" y=\"-96.8\" font-family=\"Times,serif\" font-size=\"14.00\">value = [0, 37, 1]</text>\n",
       "</g>\n",
       "<!-- 2&#45;&gt;3 -->\n",
       "<g id=\"edge3\" class=\"edge\">\n",
       "<title>2&#45;&gt;3</title>\n",
       "<path fill=\"none\" stroke=\"black\" d=\"M226,-192.88C219.41,-184.15 212.22,-174.62 205.34,-165.51\"/>\n",
       "<polygon fill=\"black\" stroke=\"black\" points=\"207.96,-163.17 199.14,-157.3 202.37,-167.39 207.96,-163.17\"/>\n",
       "</g>\n",
       "<!-- 6 -->\n",
       "<g id=\"node7\" class=\"node\">\n",
       "<title>6</title>\n",
       "<polygon fill=\"none\" stroke=\"black\" points=\"395,-157 261,-157 261,-89 395,-89 395,-157\"/>\n",
       "<text text-anchor=\"middle\" x=\"328\" y=\"-141.8\" font-family=\"Times,serif\" font-size=\"14.00\">Petal.Length &lt;= 5.05</text>\n",
       "<text text-anchor=\"middle\" x=\"328\" y=\"-126.8\" font-family=\"Times,serif\" font-size=\"14.00\">entropy = 0.42</text>\n",
       "<text text-anchor=\"middle\" x=\"328\" y=\"-111.8\" font-family=\"Times,serif\" font-size=\"14.00\">samples = 47</text>\n",
       "<text text-anchor=\"middle\" x=\"328\" y=\"-96.8\" font-family=\"Times,serif\" font-size=\"14.00\">value = [0, 4, 43]</text>\n",
       "</g>\n",
       "<!-- 2&#45;&gt;6 -->\n",
       "<g id=\"edge6\" class=\"edge\">\n",
       "<title>2&#45;&gt;6</title>\n",
       "<path fill=\"none\" stroke=\"black\" d=\"M276,-192.88C282.59,-184.15 289.78,-174.62 296.66,-165.51\"/>\n",
       "<polygon fill=\"black\" stroke=\"black\" points=\"299.63,-167.39 302.86,-157.3 294.04,-163.17 299.63,-167.39\"/>\n",
       "</g>\n",
       "<!-- 4 -->\n",
       "<g id=\"node5\" class=\"node\">\n",
       "<title>4</title>\n",
       "<polygon fill=\"none\" stroke=\"black\" points=\"106,-53 0,-53 0,0 106,0 106,-53\"/>\n",
       "<text text-anchor=\"middle\" x=\"53\" y=\"-37.8\" font-family=\"Times,serif\" font-size=\"14.00\">entropy = 0.0</text>\n",
       "<text text-anchor=\"middle\" x=\"53\" y=\"-22.8\" font-family=\"Times,serif\" font-size=\"14.00\">samples = 1</text>\n",
       "<text text-anchor=\"middle\" x=\"53\" y=\"-7.8\" font-family=\"Times,serif\" font-size=\"14.00\">value = [0, 0, 1]</text>\n",
       "</g>\n",
       "<!-- 3&#45;&gt;4 -->\n",
       "<g id=\"edge4\" class=\"edge\">\n",
       "<title>3&#45;&gt;4</title>\n",
       "<path fill=\"none\" stroke=\"black\" d=\"M131.68,-88.95C119.5,-79.43 106.23,-69.07 94.12,-59.62\"/>\n",
       "<polygon fill=\"black\" stroke=\"black\" points=\"95.99,-56.63 85.95,-53.24 91.68,-62.15 95.99,-56.63\"/>\n",
       "</g>\n",
       "<!-- 5 -->\n",
       "<g id=\"node6\" class=\"node\">\n",
       "<title>5</title>\n",
       "<polygon fill=\"none\" stroke=\"black\" points=\"237.5,-53 124.5,-53 124.5,0 237.5,0 237.5,-53\"/>\n",
       "<text text-anchor=\"middle\" x=\"181\" y=\"-37.8\" font-family=\"Times,serif\" font-size=\"14.00\">entropy = 0.0</text>\n",
       "<text text-anchor=\"middle\" x=\"181\" y=\"-22.8\" font-family=\"Times,serif\" font-size=\"14.00\">samples = 37</text>\n",
       "<text text-anchor=\"middle\" x=\"181\" y=\"-7.8\" font-family=\"Times,serif\" font-size=\"14.00\">value = [0, 37, 0]</text>\n",
       "</g>\n",
       "<!-- 3&#45;&gt;5 -->\n",
       "<g id=\"edge5\" class=\"edge\">\n",
       "<title>3&#45;&gt;5</title>\n",
       "<path fill=\"none\" stroke=\"black\" d=\"M176.45,-88.95C177.06,-80.72 177.71,-71.85 178.33,-63.48\"/>\n",
       "<polygon fill=\"black\" stroke=\"black\" points=\"181.85,-63.47 179.09,-53.24 174.86,-62.95 181.85,-63.47\"/>\n",
       "</g>\n",
       "<!-- 7 -->\n",
       "<g id=\"node8\" class=\"node\">\n",
       "<title>7</title>\n",
       "<polygon fill=\"none\" stroke=\"black\" points=\"375,-53 269,-53 269,0 375,0 375,-53\"/>\n",
       "<text text-anchor=\"middle\" x=\"322\" y=\"-37.8\" font-family=\"Times,serif\" font-size=\"14.00\">entropy = 0.918</text>\n",
       "<text text-anchor=\"middle\" x=\"322\" y=\"-22.8\" font-family=\"Times,serif\" font-size=\"14.00\">samples = 12</text>\n",
       "<text text-anchor=\"middle\" x=\"322\" y=\"-7.8\" font-family=\"Times,serif\" font-size=\"14.00\">value = [0, 4, 8]</text>\n",
       "</g>\n",
       "<!-- 6&#45;&gt;7 -->\n",
       "<g id=\"edge7\" class=\"edge\">\n",
       "<title>6&#45;&gt;7</title>\n",
       "<path fill=\"none\" stroke=\"black\" d=\"M325.9,-88.95C325.38,-80.72 324.82,-71.85 324.28,-63.48\"/>\n",
       "<polygon fill=\"black\" stroke=\"black\" points=\"327.76,-62.99 323.63,-53.24 320.77,-63.44 327.76,-62.99\"/>\n",
       "</g>\n",
       "<!-- 8 -->\n",
       "<g id=\"node9\" class=\"node\">\n",
       "<title>8</title>\n",
       "<polygon fill=\"none\" stroke=\"black\" points=\"506.5,-53 393.5,-53 393.5,0 506.5,0 506.5,-53\"/>\n",
       "<text text-anchor=\"middle\" x=\"450\" y=\"-37.8\" font-family=\"Times,serif\" font-size=\"14.00\">entropy = 0.0</text>\n",
       "<text text-anchor=\"middle\" x=\"450\" y=\"-22.8\" font-family=\"Times,serif\" font-size=\"14.00\">samples = 35</text>\n",
       "<text text-anchor=\"middle\" x=\"450\" y=\"-7.8\" font-family=\"Times,serif\" font-size=\"14.00\">value = [0, 0, 35]</text>\n",
       "</g>\n",
       "<!-- 6&#45;&gt;8 -->\n",
       "<g id=\"edge8\" class=\"edge\">\n",
       "<title>6&#45;&gt;8</title>\n",
       "<path fill=\"none\" stroke=\"black\" d=\"M370.67,-88.95C382.95,-79.43 396.33,-69.07 408.54,-59.62\"/>\n",
       "<polygon fill=\"black\" stroke=\"black\" points=\"411.01,-62.13 416.77,-53.24 406.72,-56.59 411.01,-62.13\"/>\n",
       "</g>\n",
       "</g>\n",
       "</svg>\n"
      ],
      "text/plain": [
       "<graphviz.sources.Source at 0x7fd021987af0>"
      ]
     },
     "execution_count": 16,
     "metadata": {},
     "output_type": "execute_result"
    }
   ],
   "source": [
    "file = open(\"../resources/iris_dtree.dot\", \"r\")\n",
    "text = file.read()\n",
    "Source(text)"
   ]
  },
  {
   "cell_type": "markdown",
   "id": "bc2d946e",
   "metadata": {},
   "source": [
    "## Cross-validation para la poda"
   ]
  },
  {
   "cell_type": "code",
   "execution_count": 17,
   "id": "b90e0b23",
   "metadata": {},
   "outputs": [],
   "source": [
    "X = data[predictors]\n",
    "Y = data[target]"
   ]
  },
  {
   "cell_type": "code",
   "execution_count": 19,
   "id": "5432b12c",
   "metadata": {},
   "outputs": [
    {
     "data": {
      "text/plain": [
       "DecisionTreeClassifier(criterion='entropy', max_depth=5, min_samples_split=20,\n",
       "                       random_state=99)"
      ]
     },
     "execution_count": 19,
     "metadata": {},
     "output_type": "execute_result"
    }
   ],
   "source": [
    "tree = DecisionTreeClassifier(criterion = \"entropy\", max_depth=5, min_samples_split=20, random_state=99)\n",
    "tree.fit(X, Y)"
   ]
  },
  {
   "cell_type": "code",
   "execution_count": 25,
   "id": "90dc3b59",
   "metadata": {},
   "outputs": [],
   "source": [
    "cv = KFold(n_splits=10, shuffle=True, random_state=1)"
   ]
  },
  {
   "cell_type": "code",
   "execution_count": 27,
   "id": "631bbab3",
   "metadata": {},
   "outputs": [],
   "source": [
    "score = np.mean(cross_val_score(tree, X, Y, scoring=\"accuracy\", cv = cv, n_jobs=1))"
   ]
  },
  {
   "cell_type": "code",
   "execution_count": 164,
   "id": "2b85d800",
   "metadata": {},
   "outputs": [
    {
     "name": "stdout",
     "output_type": "stream",
     "text": [
      "\n",
      "Número de observaciones mínimas: 2\n",
      "Mejor profundidad: 3. Score: 0.94\n",
      "\n",
      "Número de observaciones mínimas: 3\n",
      "Mejor profundidad: 3. Score: 0.94\n",
      "\n",
      "Número de observaciones mínimas: 4\n",
      "Mejor profundidad: 3. Score: 0.94\n",
      "\n",
      "Número de observaciones mínimas: 5\n",
      "Mejor profundidad: 3. Score: 0.94\n",
      "\n",
      "Número de observaciones mínimas: 6\n",
      "Mejor profundidad: 3. Score: 0.94\n",
      "\n",
      "Número de observaciones mínimas: 7\n",
      "Mejor profundidad: 3. Score: 0.94\n",
      "\n",
      "Número de observaciones mínimas: 8\n",
      "Mejor profundidad: 3. Score: 0.94\n",
      "\n",
      "Número de observaciones mínimas: 9\n",
      "Mejor profundidad: 3. Score: 0.94\n",
      "\n",
      "Número de observaciones mínimas: 10\n",
      "Mejor profundidad: 3. Score: 0.94\n",
      "\n",
      "Número de observaciones mínimas: 11\n",
      "Mejor profundidad: 3. Score: 0.94\n",
      "\n",
      "Número de observaciones mínimas: 12\n",
      "Mejor profundidad: 3. Score: 0.94\n",
      "\n",
      "Número de observaciones mínimas: 13\n",
      "Mejor profundidad: 3. Score: 0.94\n",
      "\n",
      "Número de observaciones mínimas: 14\n",
      "Mejor profundidad: 3. Score: 0.94\n",
      "\n",
      "Número de observaciones mínimas: 15\n",
      "Mejor profundidad: 3. Score: 0.94\n",
      "\n",
      "Número de observaciones mínimas: 16\n",
      "Mejor profundidad: 3. Score: 0.94\n",
      "\n",
      "Número de observaciones mínimas: 17\n",
      "Mejor profundidad: 3. Score: 0.94\n",
      "\n",
      "Número de observaciones mínimas: 18\n",
      "Mejor profundidad: 3. Score: 0.94\n",
      "\n",
      "Número de observaciones mínimas: 19\n",
      "Mejor profundidad: 3. Score: 0.94\n"
     ]
    }
   ],
   "source": [
    "cv_mat = np.array(np.repeat(float(0),10*18)).reshape(10,18)\n",
    "for j in range (2,20):\n",
    "    for i in range(1,11):\n",
    "        tree = DecisionTreeClassifier(criterion = \"entropy\", max_depth=i, min_samples_split=j, random_state=99)\n",
    "        tree.fit(X, Y)\n",
    "        cv = KFold(n_splits=10, shuffle=True, random_state=1)\n",
    "        score = np.mean(cross_val_score(tree, X, Y, scoring=\"accuracy\", cv = cv, n_jobs=1))\n",
    "        cv_mat[i-1,j-2] = score\n",
    "    print(\"\\nNúmero de observaciones mínimas:\",j)\n",
    "    for i in range(1,11):\n",
    "        if i == np.argmax(cv_mat[:,j-2]) + 1:\n",
    "            print(\"Mejor profundidad: \", i, \". Score: \", round(cv_mat[i-1,j-2],4), sep=\"\")"
   ]
  }
 ],
 "metadata": {
  "kernelspec": {
   "display_name": "Python 3 (ipykernel)",
   "language": "python",
   "name": "python3"
  },
  "language_info": {
   "codemirror_mode": {
    "name": "ipython",
    "version": 3
   },
   "file_extension": ".py",
   "mimetype": "text/x-python",
   "name": "python",
   "nbconvert_exporter": "python",
   "pygments_lexer": "ipython3",
   "version": "3.9.7"
  }
 },
 "nbformat": 4,
 "nbformat_minor": 5
}
