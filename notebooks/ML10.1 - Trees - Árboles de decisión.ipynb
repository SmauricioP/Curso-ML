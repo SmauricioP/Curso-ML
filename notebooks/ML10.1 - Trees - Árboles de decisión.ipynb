{
 "cells": [
  {
   "cell_type": "markdown",
   "id": "853daa2f",
   "metadata": {},
   "source": [
    "# Árbol de decisión para especies de flores"
   ]
  },
  {
   "cell_type": "code",
   "execution_count": 1,
   "id": "913b79a7",
   "metadata": {},
   "outputs": [],
   "source": [
    "import pandas as pd\n",
    "import numpy as np\n",
    "import matplotlib.pyplot as plt\n",
    "import os # Acceder archivos del sistema operativo\n",
    "\n",
    "from sklearn.tree import DecisionTreeClassifier\n",
    "from sklearn.tree import export_graphviz\n",
    "from sklearn.model_selection import KFold\n",
    "from sklearn.model_selection import cross_val_score\n",
    "from sklearn.ensemble import RandomForestClassifier\n",
    "from graphviz import Source #Visualizar grafos"
   ]
  },
  {
   "cell_type": "code",
   "execution_count": 2,
   "id": "3165aebe",
   "metadata": {},
   "outputs": [
    {
     "data": {
      "text/html": [
       "<div>\n",
       "<style scoped>\n",
       "    .dataframe tbody tr th:only-of-type {\n",
       "        vertical-align: middle;\n",
       "    }\n",
       "\n",
       "    .dataframe tbody tr th {\n",
       "        vertical-align: top;\n",
       "    }\n",
       "\n",
       "    .dataframe thead th {\n",
       "        text-align: right;\n",
       "    }\n",
       "</style>\n",
       "<table border=\"1\" class=\"dataframe\">\n",
       "  <thead>\n",
       "    <tr style=\"text-align: right;\">\n",
       "      <th></th>\n",
       "      <th>Sepal.Length</th>\n",
       "      <th>Sepal.Width</th>\n",
       "      <th>Petal.Length</th>\n",
       "      <th>Petal.Width</th>\n",
       "      <th>Species</th>\n",
       "    </tr>\n",
       "  </thead>\n",
       "  <tbody>\n",
       "    <tr>\n",
       "      <th>0</th>\n",
       "      <td>5.1</td>\n",
       "      <td>3.5</td>\n",
       "      <td>1.4</td>\n",
       "      <td>0.2</td>\n",
       "      <td>setosa</td>\n",
       "    </tr>\n",
       "    <tr>\n",
       "      <th>1</th>\n",
       "      <td>4.9</td>\n",
       "      <td>3.0</td>\n",
       "      <td>1.4</td>\n",
       "      <td>0.2</td>\n",
       "      <td>setosa</td>\n",
       "    </tr>\n",
       "    <tr>\n",
       "      <th>2</th>\n",
       "      <td>4.7</td>\n",
       "      <td>3.2</td>\n",
       "      <td>1.3</td>\n",
       "      <td>0.2</td>\n",
       "      <td>setosa</td>\n",
       "    </tr>\n",
       "    <tr>\n",
       "      <th>3</th>\n",
       "      <td>4.6</td>\n",
       "      <td>3.1</td>\n",
       "      <td>1.5</td>\n",
       "      <td>0.2</td>\n",
       "      <td>setosa</td>\n",
       "    </tr>\n",
       "    <tr>\n",
       "      <th>4</th>\n",
       "      <td>5.0</td>\n",
       "      <td>3.6</td>\n",
       "      <td>1.4</td>\n",
       "      <td>0.2</td>\n",
       "      <td>setosa</td>\n",
       "    </tr>\n",
       "  </tbody>\n",
       "</table>\n",
       "</div>"
      ],
      "text/plain": [
       "   Sepal.Length  Sepal.Width  Petal.Length  Petal.Width Species\n",
       "0           5.1          3.5           1.4          0.2  setosa\n",
       "1           4.9          3.0           1.4          0.2  setosa\n",
       "2           4.7          3.2           1.3          0.2  setosa\n",
       "3           4.6          3.1           1.5          0.2  setosa\n",
       "4           5.0          3.6           1.4          0.2  setosa"
      ]
     },
     "execution_count": 2,
     "metadata": {},
     "output_type": "execute_result"
    }
   ],
   "source": [
    "data = pd.read_csv(\"../datasets/iris/iris.csv\")\n",
    "data.head()"
   ]
  },
  {
   "cell_type": "code",
   "execution_count": 3,
   "id": "d968287e",
   "metadata": {},
   "outputs": [
    {
     "data": {
      "text/plain": [
       "(150, 5)"
      ]
     },
     "execution_count": 3,
     "metadata": {},
     "output_type": "execute_result"
    }
   ],
   "source": [
    "data.shape"
   ]
  },
  {
   "cell_type": "code",
   "execution_count": 4,
   "id": "c9ff8e4e",
   "metadata": {},
   "outputs": [
    {
     "data": {
      "image/png": "[encoded data removed]",
      "text/plain": [
       "<Figure size 432x288 with 1 Axes>"
      ]
     },
     "metadata": {
      "needs_background": "light"
     },
     "output_type": "display_data"
    }
   ],
   "source": [
    "plt.hist(data[\"Species\"])\n",
    "plt.show()"
   ]
  },
  {
   "cell_type": "code",
   "execution_count": 5,
   "id": "7d662b7a",
   "metadata": {},
   "outputs": [
    {
     "data": {
      "text/plain": [
       "array(['setosa', 'versicolor', 'virginica'], dtype=object)"
      ]
     },
     "execution_count": 5,
     "metadata": {},
     "output_type": "execute_result"
    }
   ],
   "source": [
    "data.Species.unique()"
   ]
  },
  {
   "cell_type": "code",
   "execution_count": 6,
   "id": "8a08c375",
   "metadata": {},
   "outputs": [],
   "source": [
    "colnames = data.columns.values.tolist()\n",
    "predictors = colnames[:4]\n",
    "target = colnames[4]"
   ]
  },
  {
   "cell_type": "code",
   "execution_count": 7,
   "id": "94b4b3a7",
   "metadata": {},
   "outputs": [],
   "source": [
    "data[\"is_train\"] = (np.random.uniform(0,1, len(data)) <= 0.75).astype(int)"
   ]
  },
  {
   "cell_type": "code",
   "execution_count": 8,
   "id": "4e6d1d27",
   "metadata": {},
   "outputs": [
    {
     "data": {
      "image/png": "[encoded data removed]",
      "text/plain": [
       "<Figure size 432x288 with 1 Axes>"
      ]
     },
     "metadata": {
      "needs_background": "light"
     },
     "output_type": "display_data"
    }
   ],
   "source": [
    "plt.hist(data.is_train)\n",
    "plt.show()"
   ]
  },
  {
   "cell_type": "code",
   "execution_count": 9,
   "id": "f53f9510",
   "metadata": {},
   "outputs": [],
   "source": [
    "train, test = data[data[\"is_train\"] == True], data[data[\"is_train\"] == False]"
   ]
  },
  {
   "cell_type": "code",
   "execution_count": 10,
   "id": "dc6802c8",
   "metadata": {},
   "outputs": [
    {
     "data": {
      "text/plain": [
       "DecisionTreeClassifier(criterion='entropy', min_samples_split=20,\n",
       "                       random_state=99)"
      ]
     },
     "execution_count": 10,
     "metadata": {},
     "output_type": "execute_result"
    }
   ],
   "source": [
    "tree = DecisionTreeClassifier(criterion = \"entropy\", min_samples_split= 20, random_state = 99)\n",
    "tree.fit(train[predictors], train[target])"
   ]
  },
  {
   "cell_type": "code",
   "execution_count": 11,
   "id": "ad323d99",
   "metadata": {},
   "outputs": [],
   "source": [
    "preds = tree.predict(test[predictors])"
   ]
  },
  {
   "cell_type": "code",
   "execution_count": 12,
   "id": "018b94ff",
   "metadata": {},
   "outputs": [
    {
     "data": {
      "text/html": [
       "<div>\n",
       "<style scoped>\n",
       "    .dataframe tbody tr th:only-of-type {\n",
       "        vertical-align: middle;\n",
       "    }\n",
       "\n",
       "    .dataframe tbody tr th {\n",
       "        vertical-align: top;\n",
       "    }\n",
       "\n",
       "    .dataframe thead th {\n",
       "        text-align: right;\n",
       "    }\n",
       "</style>\n",
       "<table border=\"1\" class=\"dataframe\">\n",
       "  <thead>\n",
       "    <tr style=\"text-align: right;\">\n",
       "      <th>Predictions</th>\n",
       "      <th>setosa</th>\n",
       "      <th>versicolor</th>\n",
       "      <th>virginica</th>\n",
       "    </tr>\n",
       "    <tr>\n",
       "      <th>Actual</th>\n",
       "      <th></th>\n",
       "      <th></th>\n",
       "      <th></th>\n",
       "    </tr>\n",
       "  </thead>\n",
       "  <tbody>\n",
       "    <tr>\n",
       "      <th>setosa</th>\n",
       "      <td>13</td>\n",
       "      <td>0</td>\n",
       "      <td>0</td>\n",
       "    </tr>\n",
       "    <tr>\n",
       "      <th>versicolor</th>\n",
       "      <td>0</td>\n",
       "      <td>7</td>\n",
       "      <td>0</td>\n",
       "    </tr>\n",
       "    <tr>\n",
       "      <th>virginica</th>\n",
       "      <td>0</td>\n",
       "      <td>3</td>\n",
       "      <td>10</td>\n",
       "    </tr>\n",
       "  </tbody>\n",
       "</table>\n",
       "</div>"
      ],
      "text/plain": [
       "Predictions  setosa  versicolor  virginica\n",
       "Actual                                    \n",
       "setosa           13           0          0\n",
       "versicolor        0           7          0\n",
       "virginica         0           3         10"
      ]
     },
     "execution_count": 12,
     "metadata": {},
     "output_type": "execute_result"
    }
   ],
   "source": [
    "pd.crosstab(test[target], preds, rownames = [\"Actual\"], colnames = [\"Predictions\"])"
   ]
  },
  {
   "cell_type": "markdown",
   "id": "601ce4f0",
   "metadata": {},
   "source": [
    "## Visualización del árbol de decisión"
   ]
  },
  {
   "cell_type": "code",
   "execution_count": 13,
   "id": "650897a9",
   "metadata": {},
   "outputs": [],
   "source": [
    "with open(\"../resources/iris_dtree.dot\", \"w\") as dotfile:\n",
    "    export_graphviz(tree, out_file = dotfile, feature_names = predictors)\n",
    "    dotfile.close()"
   ]
  },
  {
   "cell_type": "code",
   "execution_count": 14,
   "id": "b96f7bd3",
   "metadata": {},
   "outputs": [
    {
     "data": {
      "image/svg+xml": [
       "<?xml version=\"1.0\" encoding=\"UTF-8\" standalone=\"no\"?>\n",
       "<!DOCTYPE svg PUBLIC \"-//W3C//DTD SVG 1.1//EN\"\n",
       " \"http://www.w3.org/Graphics/SVG/1.1/DTD/svg11.dtd\">\n",
       "<!-- Generated by graphviz version 2.43.0 (0)\n",
       " -->\n",
       "<!-- Title: Tree Pages: 1 -->\n",
       "<svg width=\"515pt\" height=\"373pt\"\n",
       " viewBox=\"0.00 0.00 515.00 373.00\" xmlns=\"http://www.w3.org/2000/svg\" xmlns:xlink=\"http://www.w3.org/1999/xlink\">\n",
       "<g id=\"graph0\" class=\"graph\" transform=\"scale(1 1) rotate(0) translate(4 369)\">\n",
       "<title>Tree</title>\n",
       "<polygon fill=\"white\" stroke=\"transparent\" points=\"-4,4 -4,-369 511,-369 511,4 -4,4\"/>\n",
       "<!-- 0 -->\n",
       "<g id=\"node1\" class=\"node\">\n",
       "<title>0</title>\n",
       "<polygon fill=\"none\" stroke=\"black\" points=\"250.5,-365 116.5,-365 116.5,-297 250.5,-297 250.5,-365\"/>\n",
       "<text text-anchor=\"middle\" x=\"183.5\" y=\"-349.8\" font-family=\"Times,serif\" font-size=\"14.00\">Petal.Length &lt;= 2.45</text>\n",
       "<text text-anchor=\"middle\" x=\"183.5\" y=\"-334.8\" font-family=\"Times,serif\" font-size=\"14.00\">entropy = 1.581</text>\n",
       "<text text-anchor=\"middle\" x=\"183.5\" y=\"-319.8\" font-family=\"Times,serif\" font-size=\"14.00\">samples = 117</text>\n",
       "<text text-anchor=\"middle\" x=\"183.5\" y=\"-304.8\" font-family=\"Times,serif\" font-size=\"14.00\">value = [37, 43, 37]</text>\n",
       "</g>\n",
       "<!-- 1 -->\n",
       "<g id=\"node2\" class=\"node\">\n",
       "<title>1</title>\n",
       "<polygon fill=\"none\" stroke=\"black\" points=\"171,-253.5 58,-253.5 58,-200.5 171,-200.5 171,-253.5\"/>\n",
       "<text text-anchor=\"middle\" x=\"114.5\" y=\"-238.3\" font-family=\"Times,serif\" font-size=\"14.00\">entropy = 0.0</text>\n",
       "<text text-anchor=\"middle\" x=\"114.5\" y=\"-223.3\" font-family=\"Times,serif\" font-size=\"14.00\">samples = 37</text>\n",
       "<text text-anchor=\"middle\" x=\"114.5\" y=\"-208.3\" font-family=\"Times,serif\" font-size=\"14.00\">value = [37, 0, 0]</text>\n",
       "</g>\n",
       "<!-- 0&#45;&gt;1 -->\n",
       "<g id=\"edge1\" class=\"edge\">\n",
       "<title>0&#45;&gt;1</title>\n",
       "<path fill=\"none\" stroke=\"black\" d=\"M161.1,-296.88C153.51,-285.67 145.03,-273.13 137.4,-261.85\"/>\n",
       "<polygon fill=\"black\" stroke=\"black\" points=\"140.27,-259.84 131.76,-253.52 134.47,-263.76 140.27,-259.84\"/>\n",
       "<text text-anchor=\"middle\" x=\"127.03\" y=\"-274.37\" font-family=\"Times,serif\" font-size=\"14.00\">True</text>\n",
       "</g>\n",
       "<!-- 2 -->\n",
       "<g id=\"node3\" class=\"node\">\n",
       "<title>2</title>\n",
       "<polygon fill=\"none\" stroke=\"black\" points=\"318,-261 189,-261 189,-193 318,-193 318,-261\"/>\n",
       "<text text-anchor=\"middle\" x=\"253.5\" y=\"-245.8\" font-family=\"Times,serif\" font-size=\"14.00\">Petal.Width &lt;= 1.75</text>\n",
       "<text text-anchor=\"middle\" x=\"253.5\" y=\"-230.8\" font-family=\"Times,serif\" font-size=\"14.00\">entropy = 0.996</text>\n",
       "<text text-anchor=\"middle\" x=\"253.5\" y=\"-215.8\" font-family=\"Times,serif\" font-size=\"14.00\">samples = 80</text>\n",
       "<text text-anchor=\"middle\" x=\"253.5\" y=\"-200.8\" font-family=\"Times,serif\" font-size=\"14.00\">value = [0, 43, 37]</text>\n",
       "</g>\n",
       "<!-- 0&#45;&gt;2 -->\n",
       "<g id=\"edge2\" class=\"edge\">\n",
       "<title>0&#45;&gt;2</title>\n",
       "<path fill=\"none\" stroke=\"black\" d=\"M206.23,-296.88C212.16,-288.24 218.62,-278.82 224.82,-269.79\"/>\n",
       "<polygon fill=\"black\" stroke=\"black\" points=\"227.87,-271.52 230.65,-261.3 222.1,-267.56 227.87,-271.52\"/>\n",
       "<text text-anchor=\"middle\" x=\"235.22\" y=\"-282.18\" font-family=\"Times,serif\" font-size=\"14.00\">False</text>\n",
       "</g>\n",
       "<!-- 3 -->\n",
       "<g id=\"node4\" class=\"node\">\n",
       "<title>3</title>\n",
       "<polygon fill=\"none\" stroke=\"black\" points=\"244.5,-157 110.5,-157 110.5,-89 244.5,-89 244.5,-157\"/>\n",
       "<text text-anchor=\"middle\" x=\"177.5\" y=\"-141.8\" font-family=\"Times,serif\" font-size=\"14.00\">Petal.Length &lt;= 5.35</text>\n",
       "<text text-anchor=\"middle\" x=\"177.5\" y=\"-126.8\" font-family=\"Times,serif\" font-size=\"14.00\">entropy = 0.159</text>\n",
       "<text text-anchor=\"middle\" x=\"177.5\" y=\"-111.8\" font-family=\"Times,serif\" font-size=\"14.00\">samples = 43</text>\n",
       "<text text-anchor=\"middle\" x=\"177.5\" y=\"-96.8\" font-family=\"Times,serif\" font-size=\"14.00\">value = [0, 42, 1]</text>\n",
       "</g>\n",
       "<!-- 2&#45;&gt;3 -->\n",
       "<g id=\"edge3\" class=\"edge\">\n",
       "<title>2&#45;&gt;3</title>\n",
       "<path fill=\"none\" stroke=\"black\" d=\"M228.82,-192.88C222.32,-184.15 215.22,-174.62 208.43,-165.51\"/>\n",
       "<polygon fill=\"black\" stroke=\"black\" points=\"211.09,-163.23 202.31,-157.3 205.48,-167.41 211.09,-163.23\"/>\n",
       "</g>\n",
       "<!-- 6 -->\n",
       "<g id=\"node7\" class=\"node\">\n",
       "<title>6</title>\n",
       "<polygon fill=\"none\" stroke=\"black\" points=\"396.5,-157 262.5,-157 262.5,-89 396.5,-89 396.5,-157\"/>\n",
       "<text text-anchor=\"middle\" x=\"329.5\" y=\"-141.8\" font-family=\"Times,serif\" font-size=\"14.00\">Petal.Length &lt;= 4.85</text>\n",
       "<text text-anchor=\"middle\" x=\"329.5\" y=\"-126.8\" font-family=\"Times,serif\" font-size=\"14.00\">entropy = 0.179</text>\n",
       "<text text-anchor=\"middle\" x=\"329.5\" y=\"-111.8\" font-family=\"Times,serif\" font-size=\"14.00\">samples = 37</text>\n",
       "<text text-anchor=\"middle\" x=\"329.5\" y=\"-96.8\" font-family=\"Times,serif\" font-size=\"14.00\">value = [0, 1, 36]</text>\n",
       "</g>\n",
       "<!-- 2&#45;&gt;6 -->\n",
       "<g id=\"edge6\" class=\"edge\">\n",
       "<title>2&#45;&gt;6</title>\n",
       "<path fill=\"none\" stroke=\"black\" d=\"M278.18,-192.88C284.68,-184.15 291.78,-174.62 298.57,-165.51\"/>\n",
       "<polygon fill=\"black\" stroke=\"black\" points=\"301.52,-167.41 304.69,-157.3 295.91,-163.23 301.52,-167.41\"/>\n",
       "</g>\n",
       "<!-- 4 -->\n",
       "<g id=\"node5\" class=\"node\">\n",
       "<title>4</title>\n",
       "<polygon fill=\"none\" stroke=\"black\" points=\"113,-53 0,-53 0,0 113,0 113,-53\"/>\n",
       "<text text-anchor=\"middle\" x=\"56.5\" y=\"-37.8\" font-family=\"Times,serif\" font-size=\"14.00\">entropy = 0.0</text>\n",
       "<text text-anchor=\"middle\" x=\"56.5\" y=\"-22.8\" font-family=\"Times,serif\" font-size=\"14.00\">samples = 42</text>\n",
       "<text text-anchor=\"middle\" x=\"56.5\" y=\"-7.8\" font-family=\"Times,serif\" font-size=\"14.00\">value = [0, 42, 0]</text>\n",
       "</g>\n",
       "<!-- 3&#45;&gt;4 -->\n",
       "<g id=\"edge4\" class=\"edge\">\n",
       "<title>3&#45;&gt;4</title>\n",
       "<path fill=\"none\" stroke=\"black\" d=\"M135.18,-88.95C123,-79.43 109.73,-69.07 97.62,-59.62\"/>\n",
       "<polygon fill=\"black\" stroke=\"black\" points=\"99.49,-56.63 89.45,-53.24 95.18,-62.15 99.49,-56.63\"/>\n",
       "</g>\n",
       "<!-- 5 -->\n",
       "<g id=\"node6\" class=\"node\">\n",
       "<title>5</title>\n",
       "<polygon fill=\"none\" stroke=\"black\" points=\"237.5,-53 131.5,-53 131.5,0 237.5,0 237.5,-53\"/>\n",
       "<text text-anchor=\"middle\" x=\"184.5\" y=\"-37.8\" font-family=\"Times,serif\" font-size=\"14.00\">entropy = 0.0</text>\n",
       "<text text-anchor=\"middle\" x=\"184.5\" y=\"-22.8\" font-family=\"Times,serif\" font-size=\"14.00\">samples = 1</text>\n",
       "<text text-anchor=\"middle\" x=\"184.5\" y=\"-7.8\" font-family=\"Times,serif\" font-size=\"14.00\">value = [0, 0, 1]</text>\n",
       "</g>\n",
       "<!-- 3&#45;&gt;5 -->\n",
       "<g id=\"edge5\" class=\"edge\">\n",
       "<title>3&#45;&gt;5</title>\n",
       "<path fill=\"none\" stroke=\"black\" d=\"M179.95,-88.95C180.56,-80.72 181.21,-71.85 181.83,-63.48\"/>\n",
       "<polygon fill=\"black\" stroke=\"black\" points=\"185.35,-63.47 182.59,-53.24 178.36,-62.95 185.35,-63.47\"/>\n",
       "</g>\n",
       "<!-- 7 -->\n",
       "<g id=\"node8\" class=\"node\">\n",
       "<title>7</title>\n",
       "<polygon fill=\"none\" stroke=\"black\" points=\"375.5,-53 269.5,-53 269.5,0 375.5,0 375.5,-53\"/>\n",
       "<text text-anchor=\"middle\" x=\"322.5\" y=\"-37.8\" font-family=\"Times,serif\" font-size=\"14.00\">entropy = 0.918</text>\n",
       "<text text-anchor=\"middle\" x=\"322.5\" y=\"-22.8\" font-family=\"Times,serif\" font-size=\"14.00\">samples = 3</text>\n",
       "<text text-anchor=\"middle\" x=\"322.5\" y=\"-7.8\" font-family=\"Times,serif\" font-size=\"14.00\">value = [0, 1, 2]</text>\n",
       "</g>\n",
       "<!-- 6&#45;&gt;7 -->\n",
       "<g id=\"edge7\" class=\"edge\">\n",
       "<title>6&#45;&gt;7</title>\n",
       "<path fill=\"none\" stroke=\"black\" d=\"M327.05,-88.95C326.44,-80.72 325.79,-71.85 325.17,-63.48\"/>\n",
       "<polygon fill=\"black\" stroke=\"black\" points=\"328.64,-62.95 324.41,-53.24 321.65,-63.47 328.64,-62.95\"/>\n",
       "</g>\n",
       "<!-- 8 -->\n",
       "<g id=\"node9\" class=\"node\">\n",
       "<title>8</title>\n",
       "<polygon fill=\"none\" stroke=\"black\" points=\"507,-53 394,-53 394,0 507,0 507,-53\"/>\n",
       "<text text-anchor=\"middle\" x=\"450.5\" y=\"-37.8\" font-family=\"Times,serif\" font-size=\"14.00\">entropy = 0.0</text>\n",
       "<text text-anchor=\"middle\" x=\"450.5\" y=\"-22.8\" font-family=\"Times,serif\" font-size=\"14.00\">samples = 34</text>\n",
       "<text text-anchor=\"middle\" x=\"450.5\" y=\"-7.8\" font-family=\"Times,serif\" font-size=\"14.00\">value = [0, 0, 34]</text>\n",
       "</g>\n",
       "<!-- 6&#45;&gt;8 -->\n",
       "<g id=\"edge8\" class=\"edge\">\n",
       "<title>6&#45;&gt;8</title>\n",
       "<path fill=\"none\" stroke=\"black\" d=\"M371.82,-88.95C384,-79.43 397.27,-69.07 409.38,-59.62\"/>\n",
       "<polygon fill=\"black\" stroke=\"black\" points=\"411.82,-62.15 417.55,-53.24 407.51,-56.63 411.82,-62.15\"/>\n",
       "</g>\n",
       "</g>\n",
       "</svg>\n"
      ],
      "text/plain": [
       "<graphviz.sources.Source at 0x7fe17cec0640>"
      ]
     },
     "execution_count": 14,
     "metadata": {},
     "output_type": "execute_result"
    }
   ],
   "source": [
    "file = open(\"../resources/iris_dtree.dot\", \"r\")\n",
    "text = file.read()\n",
    "Source(text)"
   ]
  },
  {
   "cell_type": "markdown",
   "id": "bc2d946e",
   "metadata": {},
   "source": [
    "## Cross-validation para la poda"
   ]
  },
  {
   "cell_type": "code",
   "execution_count": 15,
   "id": "b90e0b23",
   "metadata": {},
   "outputs": [],
   "source": [
    "X = data[predictors]\n",
    "Y = data[target]"
   ]
  },
  {
   "cell_type": "code",
   "execution_count": 16,
   "id": "5432b12c",
   "metadata": {},
   "outputs": [
    {
     "data": {
      "text/plain": [
       "DecisionTreeClassifier(criterion='entropy', max_depth=5, min_samples_split=20,\n",
       "                       random_state=99)"
      ]
     },
     "execution_count": 16,
     "metadata": {},
     "output_type": "execute_result"
    }
   ],
   "source": [
    "tree = DecisionTreeClassifier(criterion = \"entropy\", max_depth=5, min_samples_split=20, random_state=99)\n",
    "tree.fit(X, Y)"
   ]
  },
  {
   "cell_type": "code",
   "execution_count": 17,
   "id": "90dc3b59",
   "metadata": {},
   "outputs": [],
   "source": [
    "cv = KFold(n_splits=10, shuffle=True, random_state=1)"
   ]
  },
  {
   "cell_type": "code",
   "execution_count": 18,
   "id": "631bbab3",
   "metadata": {},
   "outputs": [],
   "source": [
    "score = np.mean(cross_val_score(tree, X, Y, scoring=\"accuracy\", cv = cv, n_jobs=1))"
   ]
  },
  {
   "cell_type": "code",
   "execution_count": 19,
   "id": "2b85d800",
   "metadata": {},
   "outputs": [
    {
     "name": "stdout",
     "output_type": "stream",
     "text": [
      "\n",
      "Número de observaciones mínimas: 2\n",
      "Mejor profundidad: 3. Score: 0.94\n",
      "\n",
      "Número de observaciones mínimas: 3\n",
      "Mejor profundidad: 3. Score: 0.94\n",
      "\n",
      "Número de observaciones mínimas: 4\n",
      "Mejor profundidad: 3. Score: 0.94\n",
      "\n",
      "Número de observaciones mínimas: 5\n",
      "Mejor profundidad: 3. Score: 0.94\n",
      "\n",
      "Número de observaciones mínimas: 6\n",
      "Mejor profundidad: 3. Score: 0.94\n",
      "\n",
      "Número de observaciones mínimas: 7\n",
      "Mejor profundidad: 3. Score: 0.94\n",
      "\n",
      "Número de observaciones mínimas: 8\n",
      "Mejor profundidad: 3. Score: 0.94\n",
      "\n",
      "Número de observaciones mínimas: 9\n",
      "Mejor profundidad: 3. Score: 0.94\n",
      "\n",
      "Número de observaciones mínimas: 10\n",
      "Mejor profundidad: 3. Score: 0.94\n",
      "\n",
      "Número de observaciones mínimas: 11\n",
      "Mejor profundidad: 3. Score: 0.94\n",
      "\n",
      "Número de observaciones mínimas: 12\n",
      "Mejor profundidad: 3. Score: 0.94\n",
      "\n",
      "Número de observaciones mínimas: 13\n",
      "Mejor profundidad: 3. Score: 0.94\n",
      "\n",
      "Número de observaciones mínimas: 14\n",
      "Mejor profundidad: 3. Score: 0.94\n",
      "\n",
      "Número de observaciones mínimas: 15\n",
      "Mejor profundidad: 3. Score: 0.94\n",
      "\n",
      "Número de observaciones mínimas: 16\n",
      "Mejor profundidad: 3. Score: 0.94\n",
      "\n",
      "Número de observaciones mínimas: 17\n",
      "Mejor profundidad: 3. Score: 0.94\n",
      "\n",
      "Número de observaciones mínimas: 18\n",
      "Mejor profundidad: 3. Score: 0.94\n",
      "\n",
      "Número de observaciones mínimas: 19\n",
      "Mejor profundidad: 3. Score: 0.94\n"
     ]
    }
   ],
   "source": [
    "cv_mat = np.array(np.repeat(float(0),10*18)).reshape(10,18)\n",
    "for j in range (2,20):\n",
    "    for i in range(1,11):\n",
    "        tree = DecisionTreeClassifier(criterion = \"entropy\", max_depth=i, min_samples_split=j, random_state=99)\n",
    "        tree.fit(X, Y)\n",
    "        cv = KFold(n_splits=10, shuffle=True, random_state=1)\n",
    "        score = np.mean(cross_val_score(tree, X, Y, scoring=\"accuracy\", cv = cv, n_jobs=1))\n",
    "        cv_mat[i-1,j-2] = score\n",
    "    print(\"\\nNúmero de observaciones mínimas:\",j)\n",
    "    for i in range(1,11):\n",
    "        if i == np.argmax(cv_mat[:,j-2]) + 1:\n",
    "            print(\"Mejor profundidad: \", i, \". Score: \", round(cv_mat[i-1,j-2],4), sep=\"\")"
   ]
  },
  {
   "cell_type": "markdown",
   "id": "4e2846bd",
   "metadata": {},
   "source": [
    "# Random forest"
   ]
  },
  {
   "cell_type": "code",
   "execution_count": 25,
   "id": "89e6cdb6",
   "metadata": {},
   "outputs": [
    {
     "data": {
      "text/plain": [
       "RandomForestClassifier(n_jobs=2, oob_score=True)"
      ]
     },
     "execution_count": 25,
     "metadata": {},
     "output_type": "execute_result"
    }
   ],
   "source": [
    "forest = RandomForestClassifier(n_jobs=2, oob_score = True, n_estimators = 100)\n",
    "forest.fit(X,Y)"
   ]
  },
  {
   "cell_type": "code",
   "execution_count": 26,
   "id": "051f852a",
   "metadata": {},
   "outputs": [
    {
     "data": {
      "text/plain": [
       "0.9466666666666667"
      ]
     },
     "execution_count": 26,
     "metadata": {},
     "output_type": "execute_result"
    }
   ],
   "source": [
    "forest.oob_score_"
   ]
  }
 ],
 "metadata": {
  "kernelspec": {
   "display_name": "Python 3 (ipykernel)",
   "language": "python",
   "name": "python3"
  },
  "language_info": {
   "codemirror_mode": {
    "name": "ipython",
    "version": 3
   },
   "file_extension": ".py",
   "mimetype": "text/x-python",
   "name": "python",
   "nbconvert_exporter": "python",
   "pygments_lexer": "ipython3",
   "version": "3.9.7"
  }
 },
 "nbformat": 4,
 "nbformat_minor": 5
}
