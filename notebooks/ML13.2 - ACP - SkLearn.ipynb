{
 "cells": [
  {
   "cell_type": "markdown",
   "id": "36f20894-16e2-478e-aa43-afdf339d8406",
   "metadata": {},
   "source": [
    "# Análisis de componentes principales - SkLearn"
   ]
  },
  {
   "cell_type": "code",
   "execution_count": 3,
   "id": "1570bec6-35ea-4c3e-9bdd-400565e399bb",
   "metadata": {},
   "outputs": [],
   "source": [
    "import pandas as pd\n",
    "\n",
    "from sklearn.preprocessing import StandardScaler\n",
    "from sklearn.decomposition import PCA as sk_pca"
   ]
  },
  {
   "cell_type": "code",
   "execution_count": 4,
   "id": "eb915a1f-071a-45e4-ac24-84bbc44eae48",
   "metadata": {},
   "outputs": [],
   "source": [
    "df = pd.read_csv(\"../datasets/iris/iris.csv\")\n",
    "X = df.iloc[:,0:4].values\n",
    "y = df.iloc[:,4].values\n",
    "\n",
    "X_std = StandardScaler().fit_transform(X)"
   ]
  },
  {
   "cell_type": "code",
   "execution_count": 6,
   "id": "629c05a7-9c2e-4b7d-a8d6-90893490a22e",
   "metadata": {},
   "outputs": [],
   "source": [
    "acp = sk_pca(n_components = 2)\n",
    "Y = acp.fit_transform(X_std)"
   ]
  }
 ],
 "metadata": {
  "kernelspec": {
   "display_name": "Python 3 (ipykernel)",
   "language": "python",
   "name": "python3"
  },
  "language_info": {
   "codemirror_mode": {
    "name": "ipython",
    "version": 3
   },
   "file_extension": ".py",
   "mimetype": "text/x-python",
   "name": "python",
   "nbconvert_exporter": "python",
   "pygments_lexer": "ipython3",
   "version": "3.11.1"
  }
 },
 "nbformat": 4,
 "nbformat_minor": 5
}
