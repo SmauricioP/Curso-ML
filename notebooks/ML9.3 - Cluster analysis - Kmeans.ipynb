{
 "cells": [
  {
   "cell_type": "markdown",
   "id": "e94eb214",
   "metadata": {},
   "source": [
    "# El método K-means"
   ]
  },
  {
   "cell_type": "code",
   "execution_count": 23,
   "id": "236156b8",
   "metadata": {},
   "outputs": [],
   "source": [
    "import numpy as np\n",
    "import pandas as pd\n",
    "from scipy.cluster.vq import vq\n",
    "from scipy.cluster.vq import kmeans"
   ]
  },
  {
   "cell_type": "code",
   "execution_count": 24,
   "id": "053212f3",
   "metadata": {
    "scrolled": true
   },
   "outputs": [
    {
     "data": {
      "text/plain": [
       "array([[-0.48539085, -1.90515385, -0.5262218 ],\n",
       "       [-0.31354602,  0.33070649,  0.93853725],\n",
       "       [-0.56821116, -0.19377527,  1.31280484],\n",
       "       [ 1.681251  , -0.76813595, -0.76311794],\n",
       "       [-0.45737545, -2.15541652,  0.51516947],\n",
       "       [ 0.37920962, -0.69993372,  0.7089239 ],\n",
       "       [-0.34798538,  1.54588781,  0.54680904],\n",
       "       [-1.284877  , -1.73820287, -0.51482514],\n",
       "       [ 0.37004361, -1.71219704,  1.32854527],\n",
       "       [ 0.85180451, -1.17732503,  1.12722017],\n",
       "       [ 0.49599207,  1.33015894,  0.64812082],\n",
       "       [-1.99832609,  0.34026654,  0.30297731],\n",
       "       [-1.01807988,  0.36972476, -0.99125932],\n",
       "       [ 1.17140585,  2.28693771,  1.10545818],\n",
       "       [-0.56546254,  0.70761329,  0.16505748],\n",
       "       [-0.73070227, -0.52965621, -0.59603401],\n",
       "       [-0.65072001,  0.01757337, -0.86330093],\n",
       "       [-0.85526903,  0.06352153, -2.24336739],\n",
       "       [ 0.2619215 , -1.12931946, -0.56196398],\n",
       "       [-1.03443857, -1.34825025, -1.86763833],\n",
       "       [ 1.56425096, -1.74863733,  1.3871611 ],\n",
       "       [ 0.0315956 , -0.55068869,  0.74654001],\n",
       "       [-1.23866205,  0.7056843 ,  0.6183738 ],\n",
       "       [ 0.70031856, -0.12511999, -0.08935961],\n",
       "       [-0.57139649,  1.80201834,  1.65524221],\n",
       "       [ 0.60129788, -1.34997509, -1.04313742],\n",
       "       [-0.13217697, -0.70348231, -0.74683708],\n",
       "       [-1.03867392,  0.63744184, -0.13923704],\n",
       "       [-0.48576325, -0.50761548,  0.83446292],\n",
       "       [-0.08776494, -0.2491471 , -0.86885226]])"
      ]
     },
     "execution_count": 24,
     "metadata": {},
     "output_type": "execute_result"
    }
   ],
   "source": [
    "data = np.random.normal(size = 90).reshape(30,3)\n",
    "data"
   ]
  },
  {
   "cell_type": "code",
   "execution_count": 28,
   "id": "cde24dc4",
   "metadata": {
    "scrolled": true
   },
   "outputs": [
    {
     "data": {
      "text/plain": [
       "array([[-0.73070227, -0.52965621, -0.59603401],\n",
       "       [ 1.56425096, -1.74863733,  1.3871611 ]])"
      ]
     },
     "execution_count": 28,
     "metadata": {},
     "output_type": "execute_result"
    }
   ],
   "source": [
    "c1 = np.random.choice(range(len(data)))\n",
    "c2 = np.random.choice(range(len(data)))\n",
    "clust_centers = np.vstack([data[c1],data[c2]])\n",
    "clust_centers"
   ]
  },
  {
   "cell_type": "code",
   "execution_count": 30,
   "id": "1f4e3bdc",
   "metadata": {},
   "outputs": [
    {
     "data": {
      "text/plain": [
       "(array([0, 0, 0, 1, 0, 0, 0, 0, 1, 1, 0, 0, 0, 0, 0, 0, 0, 0, 0, 0, 1, 0,\n",
       "        0, 0, 0, 0, 0, 0, 0, 0], dtype=int32),\n",
       " array([1.39894431, 1.80807971, 1.94496404, 2.36617243, 1.98810897,\n",
       "        1.72157311, 2.4000928 , 1.3320246 , 1.19620019, 0.94949829,\n",
       "        2.55178616, 1.78097083, 1.02356   , 3.80082784, 1.46198503,\n",
       "        0.        , 0.61423854, 1.75530168, 1.1601977 , 1.54250754,\n",
       "        0.        , 1.54403542, 1.80523562, 1.57104714, 3.24504686,\n",
       "        1.62697538, 0.64124068, 1.29059207, 1.45148281, 0.75265103]))"
      ]
     },
     "execution_count": 30,
     "metadata": {},
     "output_type": "execute_result"
    }
   ],
   "source": [
    "vq(data, clust_centers)"
   ]
  },
  {
   "cell_type": "code",
   "execution_count": 35,
   "id": "42ea19d7",
   "metadata": {},
   "outputs": [
    {
     "data": {
      "text/plain": [
       "(array([[-0.53989241,  0.77958744,  0.58311229],\n",
       "        [ 0.04016545, -0.98941925, -0.27061644]]),\n",
       " 1.2916913359605104)"
      ]
     },
     "execution_count": 35,
     "metadata": {},
     "output_type": "execute_result"
    }
   ],
   "source": [
    "kmeans(data, 2)"
   ]
  }
 ],
 "metadata": {
  "kernelspec": {
   "display_name": "Python 3",
   "language": "python",
   "name": "python3"
  },
  "language_info": {
   "codemirror_mode": {
    "name": "ipython",
    "version": 3
   },
   "file_extension": ".py",
   "mimetype": "text/x-python",
   "name": "python",
   "nbconvert_exporter": "python",
   "pygments_lexer": "ipython3",
   "version": "3.8.8"
  }
 },
 "nbformat": 4,
 "nbformat_minor": 5
}
