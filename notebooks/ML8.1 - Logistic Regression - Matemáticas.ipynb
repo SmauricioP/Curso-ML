{
 "cells": [
  {
   "cell_type": "markdown",
   "id": "ca277f9e",
   "metadata": {},
   "source": [
    "# Las matemáticas tras la regresión logística"
   ]
  },
  {
   "cell_type": "markdown",
   "id": "180735b5",
   "metadata": {},
   "source": [
    "## Tablas de contingencia"
   ]
  },
  {
   "cell_type": "code",
   "execution_count": 1,
   "id": "51782677",
   "metadata": {},
   "outputs": [],
   "source": [
    "import pandas as pd\n",
    "import numpy as np"
   ]
  },
  {
   "cell_type": "code",
   "execution_count": 2,
   "id": "5d50b3c3",
   "metadata": {},
   "outputs": [],
   "source": [
    "df = pd.read_csv(\"../../datasets/gender-purchase/Gender Purchase.csv\")"
   ]
  },
  {
   "cell_type": "code",
   "execution_count": 3,
   "id": "3ce61e65",
   "metadata": {},
   "outputs": [
    {
     "data": {
      "text/html": [
       "<div>\n",
       "<style scoped>\n",
       "    .dataframe tbody tr th:only-of-type {\n",
       "        vertical-align: middle;\n",
       "    }\n",
       "\n",
       "    .dataframe tbody tr th {\n",
       "        vertical-align: top;\n",
       "    }\n",
       "\n",
       "    .dataframe thead th {\n",
       "        text-align: right;\n",
       "    }\n",
       "</style>\n",
       "<table border=\"1\" class=\"dataframe\">\n",
       "  <thead>\n",
       "    <tr style=\"text-align: right;\">\n",
       "      <th></th>\n",
       "      <th>Gender</th>\n",
       "      <th>Purchase</th>\n",
       "    </tr>\n",
       "  </thead>\n",
       "  <tbody>\n",
       "    <tr>\n",
       "      <th>0</th>\n",
       "      <td>Female</td>\n",
       "      <td>Yes</td>\n",
       "    </tr>\n",
       "    <tr>\n",
       "      <th>1</th>\n",
       "      <td>Female</td>\n",
       "      <td>Yes</td>\n",
       "    </tr>\n",
       "    <tr>\n",
       "      <th>2</th>\n",
       "      <td>Female</td>\n",
       "      <td>No</td>\n",
       "    </tr>\n",
       "    <tr>\n",
       "      <th>3</th>\n",
       "      <td>Male</td>\n",
       "      <td>No</td>\n",
       "    </tr>\n",
       "    <tr>\n",
       "      <th>4</th>\n",
       "      <td>Male</td>\n",
       "      <td>Yes</td>\n",
       "    </tr>\n",
       "  </tbody>\n",
       "</table>\n",
       "</div>"
      ],
      "text/plain": [
       "   Gender Purchase\n",
       "0  Female      Yes\n",
       "1  Female      Yes\n",
       "2  Female       No\n",
       "3    Male       No\n",
       "4    Male      Yes"
      ]
     },
     "execution_count": 3,
     "metadata": {},
     "output_type": "execute_result"
    }
   ],
   "source": [
    "df.head()"
   ]
  },
  {
   "cell_type": "code",
   "execution_count": 4,
   "id": "44af2022",
   "metadata": {},
   "outputs": [
    {
     "data": {
      "text/plain": [
       "511"
      ]
     },
     "execution_count": 4,
     "metadata": {},
     "output_type": "execute_result"
    }
   ],
   "source": [
    "len(df)"
   ]
  },
  {
   "cell_type": "code",
   "execution_count": 8,
   "id": "0ab07b2e",
   "metadata": {},
   "outputs": [
    {
     "data": {
      "text/html": [
       "<div>\n",
       "<style scoped>\n",
       "    .dataframe tbody tr th:only-of-type {\n",
       "        vertical-align: middle;\n",
       "    }\n",
       "\n",
       "    .dataframe tbody tr th {\n",
       "        vertical-align: top;\n",
       "    }\n",
       "\n",
       "    .dataframe thead th {\n",
       "        text-align: right;\n",
       "    }\n",
       "</style>\n",
       "<table border=\"1\" class=\"dataframe\">\n",
       "  <thead>\n",
       "    <tr style=\"text-align: right;\">\n",
       "      <th>Purchase</th>\n",
       "      <th>No</th>\n",
       "      <th>Yes</th>\n",
       "    </tr>\n",
       "    <tr>\n",
       "      <th>Gender</th>\n",
       "      <th></th>\n",
       "      <th></th>\n",
       "    </tr>\n",
       "  </thead>\n",
       "  <tbody>\n",
       "    <tr>\n",
       "      <th>Female</th>\n",
       "      <td>106</td>\n",
       "      <td>159</td>\n",
       "    </tr>\n",
       "    <tr>\n",
       "      <th>Male</th>\n",
       "      <td>125</td>\n",
       "      <td>121</td>\n",
       "    </tr>\n",
       "  </tbody>\n",
       "</table>\n",
       "</div>"
      ],
      "text/plain": [
       "Purchase   No  Yes\n",
       "Gender            \n",
       "Female    106  159\n",
       "Male      125  121"
      ]
     },
     "execution_count": 8,
     "metadata": {},
     "output_type": "execute_result"
    }
   ],
   "source": [
    "cont_table = pd.crosstab(df['Gender'], df['Purchase'])\n",
    "cont_table"
   ]
  },
  {
   "cell_type": "code",
   "execution_count": 21,
   "id": "81671c99",
   "metadata": {},
   "outputs": [
    {
     "data": {
      "text/plain": [
       "Purchase\n",
       "No     231\n",
       "Yes    280\n",
       "dtype: int64"
      ]
     },
     "execution_count": 21,
     "metadata": {},
     "output_type": "execute_result"
    }
   ],
   "source": [
    "cont_table.sum(axis = 0) # Suma vertical, agrega filas"
   ]
  },
  {
   "cell_type": "code",
   "execution_count": 12,
   "id": "7121f045",
   "metadata": {},
   "outputs": [
    {
     "data": {
      "text/plain": [
       "Gender\n",
       "Female    265\n",
       "Male      246\n",
       "dtype: int64"
      ]
     },
     "execution_count": 12,
     "metadata": {},
     "output_type": "execute_result"
    }
   ],
   "source": [
    "cont_table.sum(axis = 1) # Suma horizontal, agrega columnas"
   ]
  },
  {
   "cell_type": "code",
   "execution_count": 26,
   "id": "27fb4b7c",
   "metadata": {},
   "outputs": [
    {
     "data": {
      "text/html": [
       "<div>\n",
       "<style scoped>\n",
       "    .dataframe tbody tr th:only-of-type {\n",
       "        vertical-align: middle;\n",
       "    }\n",
       "\n",
       "    .dataframe tbody tr th {\n",
       "        vertical-align: top;\n",
       "    }\n",
       "\n",
       "    .dataframe thead th {\n",
       "        text-align: right;\n",
       "    }\n",
       "</style>\n",
       "<table border=\"1\" class=\"dataframe\">\n",
       "  <thead>\n",
       "    <tr style=\"text-align: right;\">\n",
       "      <th>Purchase</th>\n",
       "      <th>No</th>\n",
       "      <th>Yes</th>\n",
       "    </tr>\n",
       "    <tr>\n",
       "      <th>Gender</th>\n",
       "      <th></th>\n",
       "      <th></th>\n",
       "    </tr>\n",
       "  </thead>\n",
       "  <tbody>\n",
       "    <tr>\n",
       "      <th>Female</th>\n",
       "      <td>0.40000</td>\n",
       "      <td>0.60000</td>\n",
       "    </tr>\n",
       "    <tr>\n",
       "      <th>Male</th>\n",
       "      <td>0.50813</td>\n",
       "      <td>0.49187</td>\n",
       "    </tr>\n",
       "  </tbody>\n",
       "</table>\n",
       "</div>"
      ],
      "text/plain": [
       "Purchase       No      Yes\n",
       "Gender                    \n",
       "Female    0.40000  0.60000\n",
       "Male      0.50813  0.49187"
      ]
     },
     "execution_count": 26,
     "metadata": {},
     "output_type": "execute_result"
    }
   ],
   "source": [
    "cont_table.div(cont_table.sum(axis = 1), axis = 0)"
   ]
  },
  {
   "cell_type": "markdown",
   "id": "7f2d5966",
   "metadata": {},
   "source": [
    "## La probabilidad condicional"
   ]
  },
  {
   "cell_type": "code",
   "execution_count": 27,
   "id": "93115e71",
   "metadata": {},
   "outputs": [],
   "source": [
    "from IPython.display import display, Math, Latex"
   ]
  },
  {
   "cell_type": "markdown",
   "id": "fac5100f",
   "metadata": {},
   "source": [
    "* ¿Cuál es la probabilidad de que un cliente compre un producto si es hombre?\n",
    "\n",
    "* ¿Cuá es la probabilidad de que sabiendo que un cliente compre un producto sea mujer?"
   ]
  },
  {
   "cell_type": "code",
   "execution_count": 34,
   "id": "1bef868b",
   "metadata": {},
   "outputs": [
    {
     "data": {
      "text/latex": [
       "$\\displaystyle P(\\text{Purchase}|\\text{Male}) = \\frac{\\text{N° total de compras por hombres}}{\\text{N° total de hombres del grupo}} = \\frac{\\text{Purchase} \\cap \\text{Male}}{\\text{Male}}$"
      ],
      "text/plain": [
       "<IPython.core.display.Math object>"
      ]
     },
     "metadata": {},
     "output_type": "display_data"
    }
   ],
   "source": [
    "display(Math(r'P(\\text{Purchase}|\\text{Male}) = \\frac{\\text{N° total de compras por hombres}}{\\text{N° total de hombres del grupo}} = \\frac{\\text{Purchase} \\cap \\text{Male}}{\\text{Male}}'))"
   ]
  },
  {
   "cell_type": "code",
   "execution_count": 36,
   "id": "04e58d1d",
   "metadata": {},
   "outputs": [
    {
     "data": {
      "text/plain": [
       "0.491869918699187"
      ]
     },
     "execution_count": 36,
     "metadata": {},
     "output_type": "execute_result"
    }
   ],
   "source": [
    "121/246"
   ]
  },
  {
   "cell_type": "code",
   "execution_count": 39,
   "id": "4615ae1a",
   "metadata": {},
   "outputs": [
    {
     "data": {
      "text/latex": [
       "$\\displaystyle P(\\text{Female}|\\text{Purchase}) = \\frac{\\text{N° total de compras por mujeres}}{\\text{N° total de compras}} = \\frac{\\text{Female} \\cap \\text{Purchase}}{\\text{Purchase}}$"
      ],
      "text/plain": [
       "<IPython.core.display.Math object>"
      ]
     },
     "metadata": {},
     "output_type": "display_data"
    }
   ],
   "source": [
    "display(Math(r'P(\\text{Female}|\\text{Purchase}) = \\frac{\\text{N° total de compras por mujeres}}{\\text{N° total de compras}} = \\frac{\\text{Female} \\cap \\text{Purchase}}{\\text{Purchase}}'))"
   ]
  },
  {
   "cell_type": "code",
   "execution_count": 40,
   "id": "235d24c6",
   "metadata": {},
   "outputs": [
    {
     "data": {
      "text/plain": [
       "0.5678571428571428"
      ]
     },
     "execution_count": 40,
     "metadata": {},
     "output_type": "execute_result"
    }
   ],
   "source": [
    "159/280"
   ]
  },
  {
   "cell_type": "code",
   "execution_count": 42,
   "id": "1f9db5ac",
   "metadata": {},
   "outputs": [
    {
     "data": {
      "text/latex": [
       "$\\displaystyle P(¬ \\text{Purchase}|\\text{Male}) =1 - P(\\text{Purchase}|\\text{Male})$"
      ],
      "text/plain": [
       "<IPython.core.display.Math object>"
      ]
     },
     "metadata": {},
     "output_type": "display_data"
    },
    {
     "data": {
      "text/plain": [
       "0.5081300813008129"
      ]
     },
     "execution_count": 42,
     "metadata": {},
     "output_type": "execute_result"
    }
   ],
   "source": [
    "display(Math(r'P(¬ \\text{Purchase}|\\text{Male}) =1 - P(\\text{Purchase}|\\text{Male})'))\n",
    "1 - 121/246"
   ]
  },
  {
   "cell_type": "code",
   "execution_count": 47,
   "id": "9c43517c",
   "metadata": {},
   "outputs": [
    {
     "data": {
      "text/html": [
       "<div>\n",
       "<style scoped>\n",
       "    .dataframe tbody tr th:only-of-type {\n",
       "        vertical-align: middle;\n",
       "    }\n",
       "\n",
       "    .dataframe tbody tr th {\n",
       "        vertical-align: top;\n",
       "    }\n",
       "\n",
       "    .dataframe thead th {\n",
       "        text-align: right;\n",
       "    }\n",
       "</style>\n",
       "<table border=\"1\" class=\"dataframe\">\n",
       "  <thead>\n",
       "    <tr style=\"text-align: right;\">\n",
       "      <th>Purchase</th>\n",
       "      <th>No</th>\n",
       "      <th>Yes</th>\n",
       "    </tr>\n",
       "    <tr>\n",
       "      <th>Gender</th>\n",
       "      <th></th>\n",
       "      <th></th>\n",
       "    </tr>\n",
       "  </thead>\n",
       "  <tbody>\n",
       "    <tr>\n",
       "      <th>Female</th>\n",
       "      <td>0.40000</td>\n",
       "      <td>0.60000</td>\n",
       "    </tr>\n",
       "    <tr>\n",
       "      <th>Male</th>\n",
       "      <td>0.50813</td>\n",
       "      <td>0.49187</td>\n",
       "    </tr>\n",
       "  </tbody>\n",
       "</table>\n",
       "</div>"
      ],
      "text/plain": [
       "Purchase       No      Yes\n",
       "Gender                    \n",
       "Female    0.40000  0.60000\n",
       "Male      0.50813  0.49187"
      ]
     },
     "execution_count": 47,
     "metadata": {},
     "output_type": "execute_result"
    }
   ],
   "source": [
    "cont_table.div(cont_table.sum(axis = 1), 0)"
   ]
  },
  {
   "cell_type": "code",
   "execution_count": 51,
   "id": "8816ec76",
   "metadata": {},
   "outputs": [
    {
     "data": {
      "text/latex": [
       "$\\displaystyle P(\\text{Purchase}|\\text{Male})$"
      ],
      "text/plain": [
       "<IPython.core.display.Math object>"
      ]
     },
     "metadata": {},
     "output_type": "display_data"
    },
    {
     "name": "stdout",
     "output_type": "stream",
     "text": [
      "0.49\n"
     ]
    },
    {
     "data": {
      "text/latex": [
       "$\\displaystyle P(\\text{¬ Purchase}|\\text{Male})$"
      ],
      "text/plain": [
       "<IPython.core.display.Math object>"
      ]
     },
     "metadata": {},
     "output_type": "display_data"
    },
    {
     "name": "stdout",
     "output_type": "stream",
     "text": [
      "0.51\n"
     ]
    },
    {
     "data": {
      "text/latex": [
       "$\\displaystyle P(\\text{Purchase}|\\text{Female})$"
      ],
      "text/plain": [
       "<IPython.core.display.Math object>"
      ]
     },
     "metadata": {},
     "output_type": "display_data"
    },
    {
     "name": "stdout",
     "output_type": "stream",
     "text": [
      "0.6\n"
     ]
    },
    {
     "data": {
      "text/latex": [
       "$\\displaystyle P(\\text{¬ Purchase}|\\text{Female})$"
      ],
      "text/plain": [
       "<IPython.core.display.Math object>"
      ]
     },
     "metadata": {},
     "output_type": "display_data"
    },
    {
     "name": "stdout",
     "output_type": "stream",
     "text": [
      "0.4\n"
     ]
    }
   ],
   "source": [
    "display(Math(r'P(\\text{Purchase}|\\text{Male})'))\n",
    "print(0.49)\n",
    "display(Math(r'P(\\text{¬ Purchase}|\\text{Male})'))\n",
    "print(0.51)\n",
    "display(Math(r'P(\\text{Purchase}|\\text{Female})'))\n",
    "print(0.6)\n",
    "display(Math(r'P(\\text{¬ Purchase}|\\text{Female})'))\n",
    "print(0.4)"
   ]
  },
  {
   "cell_type": "markdown",
   "id": "953c6b86",
   "metadata": {},
   "source": [
    "## Ratio de probabilidades\n",
    "Cociente entre casos de éxito sobre fracaso en el suceso estudiado y para cada grupo"
   ]
  },
  {
   "cell_type": "code",
   "execution_count": 61,
   "id": "04d39e75",
   "metadata": {},
   "outputs": [
    {
     "data": {
      "text/latex": [
       "$\\displaystyle P_m: \\text{Probabilidad de que compre sabiendo que es hombre}$"
      ],
      "text/plain": [
       "<IPython.core.display.Math object>"
      ]
     },
     "metadata": {},
     "output_type": "display_data"
    },
    {
     "data": {
      "text/latex": [
       "$\\displaystyle P_f: \\text{Probabilidad de que compre sabiendo que es mujer}$"
      ],
      "text/plain": [
       "<IPython.core.display.Math object>"
      ]
     },
     "metadata": {},
     "output_type": "display_data"
    },
    {
     "data": {
      "text/latex": [
       "$\\displaystyle \\text{odds}_{m} = \\frac{P_m}{1-P_m}$"
      ],
      "text/plain": [
       "<IPython.core.display.Math object>"
      ]
     },
     "metadata": {},
     "output_type": "display_data"
    },
    {
     "data": {
      "text/latex": [
       "$\\displaystyle \\text{odds}_{f} = \\frac{P_f}{1-P_f}$"
      ],
      "text/plain": [
       "<IPython.core.display.Math object>"
      ]
     },
     "metadata": {},
     "output_type": "display_data"
    },
    {
     "data": {
      "text/latex": [
       "$\\displaystyle \\text{odds} \\in [0, \\infty[$"
      ],
      "text/plain": [
       "<IPython.core.display.Math object>"
      ]
     },
     "metadata": {},
     "output_type": "display_data"
    }
   ],
   "source": [
    "display(Math(r'P_m: \\text{Probabilidad de que compre sabiendo que es hombre}'))\n",
    "display(Math(r'P_f: \\text{Probabilidad de que compre sabiendo que es mujer}'))\n",
    "display(Math(r'\\text{odds}_{m} = \\frac{P_m}{1-P_m}'))\n",
    "display(Math(r'\\text{odds}_{f} = \\frac{P_f}{1-P_f}'))\n",
    "display(Math(r'\\text{odds} \\in [0, \\infty['))"
   ]
  },
  {
   "cell_type": "code",
   "execution_count": 65,
   "id": "c5c4cb09",
   "metadata": {},
   "outputs": [
    {
     "data": {
      "text/plain": [
       "('0.9680', '1.5000')"
      ]
     },
     "execution_count": 65,
     "metadata": {},
     "output_type": "execute_result"
    }
   ],
   "source": [
    "pm = 121/246\n",
    "pf = 159/265\n",
    "\n",
    "odds_m = pm/(1-pm)\n",
    "odds_f = pf/(1-pf)\n",
    "\n",
    "(\"{:.4f}\".format(odds_m), \"{:.4f}\".format(odds_f))"
   ]
  },
  {
   "cell_type": "code",
   "execution_count": 66,
   "id": "251f2ede",
   "metadata": {},
   "outputs": [
    {
     "data": {
      "text/latex": [
       "$\\displaystyle \\text{odds}_r = \\frac{\\text{odds}_{m}}{\\text{odds}_{f}} $"
      ],
      "text/plain": [
       "<IPython.core.display.Math object>"
      ]
     },
     "metadata": {},
     "output_type": "display_data"
    }
   ],
   "source": [
    "display(Math(r'\\text{odds}_r = \\frac{\\text{odds}_{m}}{\\text{odds}_{f}} '))"
   ]
  },
  {
   "cell_type": "code",
   "execution_count": 68,
   "id": "27434523",
   "metadata": {},
   "outputs": [
    {
     "data": {
      "text/plain": [
       "0.6453333333333335"
      ]
     },
     "execution_count": 68,
     "metadata": {},
     "output_type": "execute_result"
    }
   ],
   "source": [
    "odds_r = odds_m/odds_f\n",
    "odds_r"
   ]
  },
  {
   "cell_type": "markdown",
   "id": "e155e42b",
   "metadata": {},
   "source": [
    "## La regresión logística desde la regresión lineal"
   ]
  },
  {
   "cell_type": "code",
   "execution_count": 74,
   "id": "1243f49c",
   "metadata": {},
   "outputs": [
    {
     "data": {
      "text/latex": [
       "$\\displaystyle y = X\\beta$"
      ],
      "text/plain": [
       "<IPython.core.display.Math object>"
      ]
     },
     "metadata": {},
     "output_type": "display_data"
    },
    {
     "data": {
      "text/latex": [
       "$\\displaystyle x \\in \\mathbb{R}^n \\ $"
      ],
      "text/plain": [
       "<IPython.core.display.Math object>"
      ]
     },
     "metadata": {},
     "output_type": "display_data"
    }
   ],
   "source": [
    "display(Math(r'y = X\\beta'))\n",
    "display(Math(r'x \\in \\mathbb{R}^n \\ '))"
   ]
  },
  {
   "cell_type": "code",
   "execution_count": 86,
   "id": "cdd6ad21",
   "metadata": {},
   "outputs": [
    {
     "data": {
      "text/latex": [
       "$\\displaystyle y \\in [0,1] \\ $"
      ],
      "text/plain": [
       "<IPython.core.display.Math object>"
      ]
     },
     "metadata": {},
     "output_type": "display_data"
    },
    {
     "data": {
      "text/latex": [
       "$\\displaystyle P \\in [0,1]$"
      ],
      "text/plain": [
       "<IPython.core.display.Math object>"
      ]
     },
     "metadata": {},
     "output_type": "display_data"
    },
    {
     "data": {
      "text/latex": [
       "$\\displaystyle x \\in \\mathbb{R}$"
      ],
      "text/plain": [
       "<IPython.core.display.Math object>"
      ]
     },
     "metadata": {},
     "output_type": "display_data"
    },
    {
     "data": {
      "text/latex": [
       "$\\displaystyle P = \\alpha + \\beta x$"
      ],
      "text/plain": [
       "<IPython.core.display.Math object>"
      ]
     },
     "metadata": {},
     "output_type": "display_data"
    }
   ],
   "source": [
    "display(Math(r'y \\in [0,1] \\ '))\n",
    "display(Math(r'P \\in [0,1]'))\n",
    "display(Math(r'x \\in \\mathbb{R}'))\n",
    "display(Math(r'P = \\alpha + \\beta x'))"
   ]
  },
  {
   "cell_type": "markdown",
   "id": "fb2b30a2",
   "metadata": {},
   "source": [
    "$P$ es la probabilidad de éxito o fracaso condicionada a la presencia de la variable X. Acá hay un problema: la probabilidad modelada puede tomar valores fuera del rango $[0,1]$ "
   ]
  },
  {
   "cell_type": "code",
   "execution_count": 82,
   "id": "b6739af6",
   "metadata": {},
   "outputs": [
    {
     "data": {
      "text/latex": [
       "$\\displaystyle \\frac{P}{1-P} = \\alpha + \\beta x$"
      ],
      "text/plain": [
       "<IPython.core.display.Math object>"
      ]
     },
     "metadata": {},
     "output_type": "display_data"
    }
   ],
   "source": [
    "display(Math(r'\\frac{P}{1-P} = \\alpha + \\beta x'))"
   ]
  },
  {
   "cell_type": "markdown",
   "id": "5e884b0a",
   "metadata": {},
   "source": [
    "El problema es que el odds va entre 0 e infinito. Para esto, necesitamos una última transformación: logaritmo natural."
   ]
  },
  {
   "cell_type": "code",
   "execution_count": 85,
   "id": "06c68ebe",
   "metadata": {},
   "outputs": [
    {
     "data": {
      "text/latex": [
       "$\\displaystyle \\ln\\left(\\frac{P}{1-P}\\right) = \\alpha + \\beta x$"
      ],
      "text/plain": [
       "<IPython.core.display.Math object>"
      ]
     },
     "metadata": {},
     "output_type": "display_data"
    }
   ],
   "source": [
    "display(Math(r'\\ln\\left(\\frac{P}{1-P}\\right) = \\alpha + \\beta x'))"
   ]
  },
  {
   "cell_type": "markdown",
   "id": "00390f28",
   "metadata": {},
   "source": [
    "Por lo tanto, el modelo es lineal en el **logit**. De esta manera, se tiene lo siguiente."
   ]
  },
  {
   "cell_type": "code",
   "execution_count": 93,
   "id": "537434dc",
   "metadata": {},
   "outputs": [
    {
     "data": {
      "text/latex": [
       "$\\displaystyle \\frac{P}{1-P} = e^{\\alpha + \\beta x} \\to P = \\frac{1}{1+e^{-(\\alpha + \\beta x)}}$"
      ],
      "text/plain": [
       "<IPython.core.display.Math object>"
      ]
     },
     "metadata": {},
     "output_type": "display_data"
    }
   ],
   "source": [
    "display(Math(r'\\frac{P}{1-P} = e^{\\alpha + \\beta x} \\to P = \\frac{1}{1+e^{-(\\alpha + \\beta x)}}'))"
   ]
  },
  {
   "cell_type": "code",
   "execution_count": 98,
   "id": "4cdb4409",
   "metadata": {},
   "outputs": [
    {
     "data": {
      "text/latex": [
       "$\\displaystyle \\lim_{x \\to \\infty} P(x) = 1$"
      ],
      "text/plain": [
       "<IPython.core.display.Math object>"
      ]
     },
     "metadata": {},
     "output_type": "display_data"
    },
    {
     "data": {
      "text/latex": [
       "$\\displaystyle \\lim_{x \\to -\\infty} P(x) = 0$"
      ],
      "text/plain": [
       "<IPython.core.display.Math object>"
      ]
     },
     "metadata": {},
     "output_type": "display_data"
    }
   ],
   "source": [
    "display(Math(r'\\lim_{x \\to \\infty} P(x) = 1'))\n",
    "display(Math(r'\\lim_{x \\to -\\infty} P(x) = 0'))"
   ]
  },
  {
   "cell_type": "markdown",
   "id": "a38d1af7",
   "metadata": {},
   "source": [
    "Finalmente, la fórmula de regresión logística para varios *features* es el siguiente"
   ]
  },
  {
   "cell_type": "code",
   "execution_count": 100,
   "id": "f3f6c105",
   "metadata": {},
   "outputs": [
    {
     "data": {
      "text/latex": [
       "$\\displaystyle P = \\frac{1}{1+e^{-(\\beta_0 + \\sum_{i = 1}^n \\beta_i x_i)}}$"
      ],
      "text/plain": [
       "<IPython.core.display.Math object>"
      ]
     },
     "metadata": {},
     "output_type": "display_data"
    }
   ],
   "source": [
    "display(Math(r'P = \\frac{1}{1+e^{-(\\beta_0 + \\sum_{i = 1}^n \\beta_i x_i)}}'))"
   ]
  }
 ],
 "metadata": {
  "kernelspec": {
   "display_name": "Python 3",
   "language": "python",
   "name": "python3"
  },
  "language_info": {
   "codemirror_mode": {
    "name": "ipython",
    "version": 3
   },
   "file_extension": ".py",
   "mimetype": "text/x-python",
   "name": "python",
   "nbconvert_exporter": "python",
   "pygments_lexer": "ipython3",
   "version": "3.8.8"
  }
 },
 "nbformat": 4,
 "nbformat_minor": 5
}
